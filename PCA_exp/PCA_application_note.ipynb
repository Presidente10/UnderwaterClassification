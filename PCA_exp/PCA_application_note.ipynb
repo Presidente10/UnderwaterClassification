{
 "cells": [
  {
   "cell_type": "code",
   "execution_count": null,
   "id": "initial_id",
   "metadata": {
    "collapsed": true
   },
   "outputs": [],
   "source": [
    "import pandas as pd\n",
    "import matplotlib.pyplot as plt\n",
    "import seaborn as sns"
   ]
  },
  {
   "metadata": {},
   "cell_type": "markdown",
   "source": "CARICA I RIUSLTATI DELLA PCA",
   "id": "48485c98d4560ecc"
  },
  {
   "metadata": {},
   "cell_type": "code",
   "outputs": [],
   "execution_count": null,
   "source": [
    "loading_matrix = pd.read_csv(\"loading_matrix.csv\", index_col=0)\n",
    "explained_variance = pd.read_csv(\"explained_variance.csv\")"
   ],
   "id": "789b34f9ddcac719"
  },
  {
   "metadata": {},
   "cell_type": "markdown",
   "source": "VISUALIZZA  LA VARIANZA CUMULATIVA",
   "id": "de0494620b1b5e"
  },
  {
   "metadata": {},
   "cell_type": "code",
   "outputs": [],
   "execution_count": null,
   "source": [
    "plt.figure(figsize=(8, 5))\n",
    "plt.plot(range(1, len(explained_variance) + 1), explained_variance['Varianza Spiegata (%)'].cumsum(), marker='o')\n",
    "plt.xlabel('Numero di Componenti')\n",
    "plt.ylabel('Varianza Cumulativa (%)')\n",
    "plt.title('Varianza Cumulativa Spiegata dalla PCA')\n",
    "plt.grid()\n",
    "plt.show()"
   ],
   "id": "cec9cb24ff0cc621"
  },
  {
   "metadata": {},
   "cell_type": "markdown",
   "source": "IDENTIFICA LE COMPONENTI CON BASSA VARIANZA",
   "id": "70b3e40d9b93da29"
  },
  {
   "metadata": {},
   "cell_type": "code",
   "outputs": [],
   "execution_count": null,
   "source": [
    "low_variance_components = explained_variance[explained_variance['Varianza Spiegata (%)'] < 1]\n",
    "print(\"Componenti con bassa varianza:\")\n",
    "print(low_variance_components)"
   ],
   "id": "9e522058aa6e2a3f"
  },
  {
   "metadata": {},
   "cell_type": "markdown",
   "source": "vISUALIZZA IL CONTRIBUTO DELLE FEATURES",
   "id": "a10250a90ab33872"
  },
  {
   "metadata": {},
   "cell_type": "code",
   "outputs": [],
   "execution_count": null,
   "source": [
    "plt.figure(figsize=(10, 6))\n",
    "sns.barplot(x=loading_matrix.columns, y=loading_matrix.iloc[0])\n",
    "plt.xticks(rotation=90)\n",
    "plt.title('Contributo delle Feature alla Prima Componente Principale (PC1)')\n",
    "plt.xlabel('Feature')\n",
    "plt.ylabel('Contributo')\n",
    "plt.tight_layout()\n",
    "plt.show()"
   ],
   "id": "1de61fab05adef58"
  },
  {
   "metadata": {},
   "cell_type": "markdown",
   "source": "CALCOLO DEL CONTRIBUTO MEDIO ASSOLUTO DELLE FEATURES",
   "id": "251c910fcc678130"
  },
  {
   "metadata": {},
   "cell_type": "code",
   "outputs": [],
   "execution_count": null,
   "source": [
    "feature_contribution = loading_matrix.abs().mean(axis=0)\n",
    "feature_contribution_sorted = feature_contribution.sort_values(ascending=False)"
   ],
   "id": "5f4aa9a5b8945be6"
  },
  {
   "metadata": {},
   "cell_type": "markdown",
   "source": "STAMPA FEATURES PIU INFULENTI",
   "id": "210b97d73f4e255e"
  },
  {
   "metadata": {},
   "cell_type": "code",
   "outputs": [],
   "execution_count": null,
   "source": [
    "print(\"Feature più influenti in media sulle componenti principali:\")\n",
    "print(feature_contribution_sorted.head(10))"
   ],
   "id": "3510953feddb5136"
  },
  {
   "metadata": {},
   "cell_type": "markdown",
   "source": "SALVA IL RANKING DELLE FEATURES",
   "id": "1a336129ecdba512"
  },
  {
   "metadata": {},
   "cell_type": "code",
   "outputs": [],
   "execution_count": null,
   "source": "feature_contribution_sorted.to_csv(\"feature_contribution.csv\")",
   "id": "3efbbe931c74c7dc"
  }
 ],
 "metadata": {
  "kernelspec": {
   "display_name": "Python 3",
   "language": "python",
   "name": "python3"
  },
  "language_info": {
   "codemirror_mode": {
    "name": "ipython",
    "version": 2
   },
   "file_extension": ".py",
   "mimetype": "text/x-python",
   "name": "python",
   "nbconvert_exporter": "python",
   "pygments_lexer": "ipython2",
   "version": "2.7.6"
  }
 },
 "nbformat": 4,
 "nbformat_minor": 5
}
