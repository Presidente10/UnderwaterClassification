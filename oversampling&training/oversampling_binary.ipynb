{
 "cells": [
  {
   "cell_type": "code",
   "id": "35178ba2aafdac3e",
   "metadata": {
    "collapsed": false,
    "ExecuteTime": {
     "end_time": "2024-11-21T15:34:17.752365Z",
     "start_time": "2024-11-21T15:34:16.006707Z"
    }
   },
   "source": [
    "import pandas as pd\n",
    "from oversampling_binary import split_dataset, apply_smote, train_random_forest, rf_plot_confusion_matrices, train_svm, svm_plot_confusion_matrices, lightgbm_plot_confusion_matrices, train_lightgbm\n"
   ],
   "execution_count": 1,
   "outputs": []
  },
  {
   "metadata": {},
   "cell_type": "markdown",
   "source": "# CLASIFICAZIONE BINARIA",
   "id": "7c0fef22824ce879"
  },
  {
   "metadata": {
    "collapsed": false,
    "ExecuteTime": {
     "end_time": "2024-11-21T15:34:17.768123Z",
     "start_time": "2024-11-21T15:34:17.759197Z"
    }
   },
   "cell_type": "code",
   "source": [
    "# Caricare il dataset e applicare lo split\n",
    "csv_file_path = 'C:/underwater-classification/features_extraction/audio_features.csv'"
   ],
   "id": "382aa16a0179920d",
   "execution_count": 2,
   "outputs": []
  },
  {
   "metadata": {
    "ExecuteTime": {
     "end_time": "2024-11-21T15:34:18.160907Z",
     "start_time": "2024-11-21T15:34:17.989194Z"
    }
   },
   "cell_type": "code",
   "source": [
    "# Carica il file CSV in un DataFrame\n",
    "df = pd.read_csv(csv_file_path)"
   ],
   "id": "fba819466fad270f",
   "execution_count": 3,
   "outputs": []
  },
  {
   "metadata": {
    "ExecuteTime": {
     "end_time": "2024-11-21T15:34:18.239908Z",
     "start_time": "2024-11-21T15:34:18.210112Z"
    }
   },
   "cell_type": "code",
   "source": "df",
   "id": "7687c6bd3146bd4b",
   "execution_count": 4,
   "outputs": []
  },
  {
   "metadata": {
    "ExecuteTime": {
     "end_time": "2024-11-21T15:34:18.364728Z",
     "start_time": "2024-11-21T15:34:18.350724Z"
    }
   },
   "cell_type": "code",
   "source": [
    "print(\"Distribuzione delle Classi prima dello split:\")\n",
    "print(df['Class'].value_counts())"
   ],
   "id": "1819dd77de965d2c",
   "execution_count": 5,
   "outputs": []
  },
  {
   "metadata": {
    "ExecuteTime": {
     "end_time": "2024-11-21T15:34:18.595383Z",
     "start_time": "2024-11-21T15:34:18.583310Z"
    }
   },
   "cell_type": "code",
   "source": [
    "df_Target = df[df['Class'] == 'Target']\n",
    "\n",
    "print(\"Distribuzione delle subclass in Target prima dello split:\")\n",
    "print(df_Target['Subclass'].value_counts())"
   ],
   "id": "93f4b73b31d7e805",
   "execution_count": 6,
   "outputs": []
  },
  {
   "metadata": {
    "ExecuteTime": {
     "end_time": "2024-11-21T15:34:18.924628Z",
     "start_time": "2024-11-21T15:34:18.911834Z"
    }
   },
   "cell_type": "code",
   "source": [
    "df_NonTarget = df[df['Class'] == 'Non-Target']\n",
    "\n",
    "print(\"Distribuzione delle subclass in Non-Target prima dello split:\")\n",
    "print(df_NonTarget['Subclass'].value_counts())"
   ],
   "id": "95e951263168f5ce",
   "execution_count": 7,
   "outputs": []
  },
  {
   "metadata": {},
   "cell_type": "markdown",
   "source": "### Filtro dataframe",
   "id": "8c3db70c77705554"
  },
  {
   "metadata": {
    "ExecuteTime": {
     "end_time": "2024-11-21T15:34:19.314863Z",
     "start_time": "2024-11-21T15:34:19.097033Z"
    }
   },
   "cell_type": "code",
   "source": [
    "df['File Name'] = df['File Name'].str[:-4]\n",
    "# Aggiungi una colonna \"Parent\" che contiene il prefisso del file per mantenere i segmenti coesi\n",
    "df['Parent'] = df['File Name'].str.extract(r'^(.*?)(?=_seg)')\n",
    "\n",
    "# Filtra subclass con almeno 10 parent distinti\n",
    "parent_counts = df.groupby('Subclass')['Parent'].nunique()\n",
    "subclasses_to_keep = parent_counts[parent_counts >= 10].index\n",
    "df = df[df['Subclass'].isin(subclasses_to_keep)].copy()\n",
    "\n",
    "print(f\"Dimensione totale dopo il filtraggio: {df.shape[0]} campioni\")"
   ],
   "id": "f12cb7cad63ff7d",
   "execution_count": 8,
   "outputs": []
  },
  {
   "metadata": {},
   "cell_type": "markdown",
   "source": "## SPLIT",
   "id": "1ffddf1268457688"
  },
  {
   "metadata": {
    "ExecuteTime": {
     "end_time": "2024-11-21T15:34:19.814589Z",
     "start_time": "2024-11-21T15:34:19.390441Z"
    }
   },
   "cell_type": "code",
   "source": "X_train_imputed, X_val_imputed, X_test_imputed, y_train, y_val, y_test = split_dataset(df)",
   "id": "d80b838cbce47c83",
   "execution_count": 9,
   "outputs": []
  },
  {
   "metadata": {
    "ExecuteTime": {
     "end_time": "2024-11-21T15:34:48.799024Z",
     "start_time": "2024-11-21T15:34:19.847015Z"
    }
   },
   "cell_type": "code",
   "source": "X_train_imputed[['File Name', 'Parent', 'Class']].groupby(['Parent', 'File Name']).describe()",
   "id": "265146d08d07197c",
   "execution_count": 10,
   "outputs": []
  },
  {
   "metadata": {
    "ExecuteTime": {
     "end_time": "2024-11-21T15:34:53.164238Z",
     "start_time": "2024-11-21T15:34:48.879596Z"
    }
   },
   "cell_type": "code",
   "source": "X_val_imputed[['File Name', 'Parent', 'Class']].groupby(['Parent', 'File Name']).describe()",
   "id": "13ff5f5efd8e3e9f",
   "execution_count": 11,
   "outputs": []
  },
  {
   "metadata": {
    "ExecuteTime": {
     "end_time": "2024-11-21T15:34:58.449941Z",
     "start_time": "2024-11-21T15:34:53.278993Z"
    }
   },
   "cell_type": "code",
   "source": "X_test_imputed[['File Name', 'Parent', 'Class']].groupby(['Parent', 'File Name']).describe()",
   "id": "8c2b872857460f5a",
   "execution_count": 12,
   "outputs": []
  },
  {
   "metadata": {},
   "cell_type": "markdown",
   "source": "## SMOTE",
   "id": "4252323a8c0c67f6"
  },
  {
   "metadata": {
    "ExecuteTime": {
     "end_time": "2024-11-21T15:34:58.574148Z",
     "start_time": "2024-11-21T15:34:58.561150Z"
    }
   },
   "cell_type": "code",
   "source": [
    "import os\n",
    "os.environ[\"LOKY_MAX_CPU_COUNT\"] = \"4\"  # Adatta questo valore al numero di core che desideri utilizzare"
   ],
   "id": "2a9054163900c0c",
   "execution_count": 13,
   "outputs": []
  },
  {
   "metadata": {
    "ExecuteTime": {
     "end_time": "2024-11-21T15:34:58.760920Z",
     "start_time": "2024-11-21T15:34:58.685958Z"
    }
   },
   "cell_type": "code",
   "source": "X_train_resampled, y_train_resampled = apply_smote(X_train_imputed, y_train, 1)",
   "id": "f9e9fae4d65b7d4d",
   "execution_count": 14,
   "outputs": []
  },
  {
   "metadata": {
    "ExecuteTime": {
     "end_time": "2024-11-21T15:34:58.901480Z",
     "start_time": "2024-11-21T15:34:58.884394Z"
    }
   },
   "cell_type": "code",
   "source": [
    "# Stampare le forme dei dataset\n",
    "print(\"\\nForme dei dataset:\")\n",
    "print(f\"Train: {X_train_imputed.shape}\") #validation\n",
    "print(f\"Validation: {X_val_imputed.shape}\") #validation\n",
    "print(f\"Test: {X_test_imputed.shape}\") #test\n",
    "print(f\"Train bilanciato e filtrato: {X_train_resampled.shape}\") #train dopo SMOTE"
   ],
   "id": "41e07c68abe09791",
   "execution_count": 15,
   "outputs": []
  },
  {
   "metadata": {},
   "cell_type": "markdown",
   "source": "# Esperimento 1",
   "id": "d5ff8fec5eafb803"
  },
  {
   "metadata": {},
   "cell_type": "markdown",
   "source": "Esperimento effettuato prendendo come riferimento alcune features numeriche da \"Malfante et al.\"",
   "id": "a050408e837f4c50"
  },
  {
   "metadata": {
    "ExecuteTime": {
     "end_time": "2024-11-21T15:34:59.121522Z",
     "start_time": "2024-11-21T15:34:59.107522Z"
    }
   },
   "cell_type": "code",
   "source": [
    "# Rimuovi le colonne non necessarie per evitare errori nei nomi delle feature\n",
    "X_val_imputed = X_val_imputed.drop(columns=[\"Class\", \"File Name\", \"Parent\", \"Subclass\"], errors='ignore')\n",
    "X_test_imputed = X_test_imputed.drop(columns=[\"Class\", \"File Name\", \"Parent\", \"Subclass\"], errors='ignore')"
   ],
   "id": "d8432d8e1572557a",
   "execution_count": 16,
   "outputs": []
  },
  {
   "metadata": {},
   "cell_type": "markdown",
   "source": "### 1.1 Random Forest Model",
   "id": "5b5c42beb434c835"
  },
  {
   "metadata": {
    "ExecuteTime": {
     "end_time": "2024-11-21T15:35:29.537800Z",
     "start_time": "2024-11-21T15:34:59.186554Z"
    }
   },
   "cell_type": "code",
   "source": "random_forest_model = train_random_forest(X_train_resampled, y_train_resampled, X_val_imputed, y_val, X_test_imputed, y_test)",
   "id": "82695120292730ec",
   "execution_count": 17,
   "outputs": []
  },
  {
   "metadata": {
    "ExecuteTime": {
     "end_time": "2024-11-21T15:35:30.180534Z",
     "start_time": "2024-11-21T15:35:29.618327Z"
    }
   },
   "cell_type": "code",
   "source": "rf_plot_confusion_matrices(random_forest_model, X_val_imputed, y_val, X_test_imputed, y_test)",
   "id": "5b384e64929f3a5a",
   "execution_count": 18,
   "outputs": []
  },
  {
   "metadata": {},
   "cell_type": "markdown",
   "source": "### 1.2 SVM Model",
   "id": "e26b4bd0c13ca6d7"
  },
  {
   "metadata": {
    "ExecuteTime": {
     "end_time": "2024-11-21T15:38:30.281194Z",
     "start_time": "2024-11-21T15:35:30.228987Z"
    }
   },
   "cell_type": "code",
   "source": "svm_model = train_svm(X_train_resampled, y_train_resampled, X_val_imputed, y_val, X_test_imputed, y_test)",
   "id": "b000af22ed5bcf58",
   "execution_count": 19,
   "outputs": []
  },
  {
   "metadata": {
    "ExecuteTime": {
     "end_time": "2024-11-21T15:38:51.799015Z",
     "start_time": "2024-11-21T15:38:30.329947Z"
    }
   },
   "cell_type": "code",
   "source": "svm_plot_confusion_matrices(svm_model, X_val_imputed, y_val, X_test_imputed, y_test)",
   "id": "cc59e99335016859",
   "execution_count": 20,
   "outputs": []
  },
  {
   "metadata": {},
   "cell_type": "markdown",
   "source": "### 1.3 LightGBM Model",
   "id": "3f6a6db84a4786c5"
  },
  {
   "metadata": {
    "ExecuteTime": {
     "end_time": "2024-11-21T15:38:57.216043Z",
     "start_time": "2024-11-21T15:38:51.847984Z"
    }
   },
   "cell_type": "code",
   "source": "lightgbm_model = train_lightgbm(X_train_resampled, y_train_resampled, X_val_imputed, y_val, X_test_imputed, y_test)",
   "id": "d983cdf36f44efa8",
   "execution_count": 21,
   "outputs": []
  },
  {
   "metadata": {
    "ExecuteTime": {
     "end_time": "2024-11-21T15:38:57.738092Z",
     "start_time": "2024-11-21T15:38:57.280204Z"
    }
   },
   "cell_type": "code",
   "source": "lightgbm_plot_confusion_matrices(lightgbm_model, X_val_imputed, y_val, X_test_imputed, y_test)",
   "id": "1f2de7edf392fc23",
   "execution_count": 22,
   "outputs": []
  },
  {
   "metadata": {},
   "cell_type": "markdown",
   "source": "## Esperimento 2",
   "id": "e2745cff5c0d0e15"
  },
  {
   "metadata": {},
   "cell_type": "markdown",
   "source": "Esperimento effettuato prendendo come riferimento alcune features numeriche da “BirdNet”",
   "id": "d54cfd26d0ca766b"
  },
  {
   "metadata": {
    "ExecuteTime": {
     "end_time": "2024-11-21T15:38:57.991944Z",
     "start_time": "2024-11-21T15:38:57.786536Z"
    }
   },
   "cell_type": "code",
   "source": [
    "csv_file_path_exp1 = 'C:/underwater-classification/features_extraction/exp1_audio_features.csv'\n",
    "df_exp1 = pd.read_csv(csv_file_path_exp1)"
   ],
   "id": "c53153451c3c0f88",
   "execution_count": 23,
   "outputs": []
  },
  {
   "metadata": {
    "ExecuteTime": {
     "end_time": "2024-11-21T15:38:58.354080Z",
     "start_time": "2024-11-21T15:38:58.056711Z"
    }
   },
   "cell_type": "code",
   "source": [
    "df_exp1['File Name'] = df_exp1['File Name'].str[:-4]\n",
    "# Aggiungi una colonna \"Parent\" che contiene il prefisso del file per mantenere i segmenti coesi\n",
    "df_exp1['Parent'] = df_exp1['File Name'].str.extract(r'^(.*?)(?=_seg)')\n",
    "\n",
    "# Filtra subclass con almeno 10 parent distinti\n",
    "parent_counts = df_exp1.groupby('Subclass')['Parent'].nunique()\n",
    "subclasses_to_keep = parent_counts[parent_counts >= 10].index\n",
    "df_exp1 = df_exp1[df_exp1['Subclass'].isin(subclasses_to_keep)].copy()\n",
    "\n",
    "print(f\"Dimensione totale dopo il filtraggio: {df_exp1.shape[0]} campioni\")"
   ],
   "id": "f6f28a9459055f76",
   "execution_count": 24,
   "outputs": []
  },
  {
   "metadata": {
    "ExecuteTime": {
     "end_time": "2024-11-21T15:38:58.970289Z",
     "start_time": "2024-11-21T15:38:58.403648Z"
    }
   },
   "cell_type": "code",
   "source": "X_train_imputed_exp1, X_val_imputed_exp1, X_test_imputed_exp1, y_train_encoded_exp1, y_val_encoded_exp1, y_test_encoded_exp1 = split_dataset(df_exp1)",
   "id": "aeb4b3ab46fb2eec",
   "execution_count": 25,
   "outputs": []
  },
  {
   "metadata": {
    "ExecuteTime": {
     "end_time": "2024-11-21T15:38:59.174798Z",
     "start_time": "2024-11-21T15:38:59.034806Z"
    }
   },
   "cell_type": "code",
   "source": [
    "\n",
    "X_train_resampled_exp1, y_train_resampled_exp1 = apply_smote(X_train_imputed_exp1, y_train_encoded_exp1, 1)"
   ],
   "id": "b12f934aed2e8004",
   "execution_count": 26,
   "outputs": []
  },
  {
   "metadata": {
    "ExecuteTime": {
     "end_time": "2024-11-21T15:38:59.268399Z",
     "start_time": "2024-11-21T15:38:59.258907Z"
    }
   },
   "cell_type": "code",
   "source": [
    "# Rimuovi le colonne non necessarie per evitare errori nei nomi delle feature\n",
    "X_val_imputed_exp1 = X_val_imputed_exp1.drop(columns=[\"Class\", \"File Name\", \"Parent\", \"Subclass\"], errors='ignore')\n",
    "X_test_imputed_exp1 = X_test_imputed_exp1.drop(columns=[\"Class\", \"File Name\", \"Parent\", \"Subclass\"], errors='ignore')"
   ],
   "id": "bd0f0d7d702212fa",
   "execution_count": 27,
   "outputs": []
  },
  {
   "metadata": {},
   "cell_type": "markdown",
   "source": "### 2.1 Random Forest Model",
   "id": "90c83b73dde084e4"
  },
  {
   "metadata": {
    "ExecuteTime": {
     "end_time": "2024-11-21T15:39:35.763069Z",
     "start_time": "2024-11-21T15:38:59.348903Z"
    }
   },
   "cell_type": "code",
   "source": "random_forest_model_exp1 = train_random_forest(X_train_resampled_exp1, y_train_resampled_exp1, X_val_imputed_exp1, y_val_encoded_exp1, X_test_imputed_exp1, y_test_encoded_exp1)",
   "id": "901d01ee574c8286",
   "execution_count": 28,
   "outputs": []
  },
  {
   "metadata": {
    "ExecuteTime": {
     "end_time": "2024-11-21T15:39:36.215520Z",
     "start_time": "2024-11-21T15:39:35.878253Z"
    }
   },
   "cell_type": "code",
   "source": "rf_plot_confusion_matrices(random_forest_model_exp1, X_val_imputed_exp1, y_val_encoded_exp1, X_test_imputed_exp1, y_test_encoded_exp1)\n",
   "id": "c3337b2b32c86f27",
   "execution_count": 29,
   "outputs": []
  },
  {
   "metadata": {},
   "cell_type": "markdown",
   "source": "### 2.2 SVM Model",
   "id": "85b689328cc55ce0"
  },
  {
   "metadata": {
    "ExecuteTime": {
     "end_time": "2024-11-21T15:41:26.111195Z",
     "start_time": "2024-11-21T15:39:36.280158Z"
    }
   },
   "cell_type": "code",
   "source": "svm_model_exp1 = train_svm(X_train_resampled_exp1, y_train_resampled_exp1, X_val_imputed_exp1, y_val_encoded_exp1, X_test_imputed_exp1, y_test_encoded_exp1)",
   "id": "f9210217d67af87b",
   "execution_count": 30,
   "outputs": []
  },
  {
   "metadata": {
    "ExecuteTime": {
     "end_time": "2024-11-21T15:41:34.860585Z",
     "start_time": "2024-11-21T15:41:26.192078Z"
    }
   },
   "cell_type": "code",
   "source": "svm_plot_confusion_matrices(svm_model_exp1, X_val_imputed_exp1, y_val_encoded_exp1, X_test_imputed_exp1, y_test_encoded_exp1)",
   "id": "403cb794fb74e30e",
   "execution_count": 31,
   "outputs": []
  },
  {
   "metadata": {},
   "cell_type": "markdown",
   "source": "### 2.3 LightGBM Model",
   "id": "715019a8f06b39f1"
  },
  {
   "metadata": {
    "ExecuteTime": {
     "end_time": "2024-11-21T15:41:39.609531Z",
     "start_time": "2024-11-21T15:41:34.924655Z"
    }
   },
   "cell_type": "code",
   "source": "lightgbm_model_exp1 = train_lightgbm(X_train_resampled_exp1, y_train_resampled_exp1, X_val_imputed_exp1, y_val_encoded_exp1, X_test_imputed_exp1, y_test_encoded_exp1)",
   "id": "89798041563248dc",
   "execution_count": 32,
   "outputs": []
  },
  {
   "metadata": {
    "ExecuteTime": {
     "end_time": "2024-11-21T15:41:40.143681Z",
     "start_time": "2024-11-21T15:41:39.705047Z"
    }
   },
   "cell_type": "code",
   "source": "lightgbm_plot_confusion_matrices(lightgbm_model_exp1, X_val_imputed_exp1, y_val_encoded_exp1, X_test_imputed_exp1, y_test_encoded_exp1)",
   "id": "cd818dcce48bf66",
   "execution_count": 33,
   "outputs": []
  },
  {
   "metadata": {},
   "cell_type": "markdown",
   "source": "## Esperimento 3",
   "id": "f1656a634ff8c47d"
  },
  {
   "metadata": {},
   "cell_type": "markdown",
   "source": "Esperimento effettuato prendendo come riferimento features numeriche da \"A Survey on Audio Feature Extraction for Automatic Music Genre Classification\" di Dhamodaran et al.",
   "id": "4950e46c43aea61e"
  },
  {
   "metadata": {
    "ExecuteTime": {
     "end_time": "2024-11-21T15:41:40.567038Z",
     "start_time": "2024-11-21T15:41:40.207703Z"
    }
   },
   "cell_type": "code",
   "source": [
    "csv_file_path_exp2 = 'C:/underwater-classification/features_extraction/exp2_audio_features.csv'\n",
    "df_exp2 = pd.read_csv(csv_file_path_exp2)"
   ],
   "id": "c78e13e9af7bbedb",
   "execution_count": 34,
   "outputs": []
  },
  {
   "metadata": {
    "ExecuteTime": {
     "end_time": "2024-11-21T15:41:40.818659Z",
     "start_time": "2024-11-21T15:41:40.647424Z"
    }
   },
   "cell_type": "code",
   "source": [
    "df_exp2['File Name'] = df_exp2['File Name'].str[:-4]\n",
    "# Aggiungi una colonna \"Parent\" che contiene il prefisso del file per mantenere i segmenti coesi\n",
    "df_exp2['Parent'] = df_exp2['File Name'].str.extract(r'^(.*?)(?=_seg)')\n",
    "\n",
    "# Filtra subclass con almeno 10 parent distinti\n",
    "parent_counts = df_exp2.groupby('Subclass')['Parent'].nunique()\n",
    "subclasses_to_keep = parent_counts[parent_counts >= 10].index\n",
    "df_exp2 = df_exp2[df_exp2['Subclass'].isin(subclasses_to_keep)].copy()\n",
    "\n",
    "print(f\"Dimensione totale dopo il filtraggio: {df_exp2.shape[0]} campioni\")"
   ],
   "id": "c747427624fe4094",
   "execution_count": 35,
   "outputs": []
  },
  {
   "metadata": {
    "ExecuteTime": {
     "end_time": "2024-11-21T15:41:41.489781Z",
     "start_time": "2024-11-21T15:41:40.897952Z"
    }
   },
   "cell_type": "code",
   "source": "X_train_imputed_exp2, X_val_imputed_exp2, X_test_imputed_exp2, y_train_encoded_exp2, y_val_encoded_exp2, y_test_encoded_exp2 = split_dataset(df_exp2)",
   "id": "ecc0e1438bdf5ce9",
   "execution_count": 36,
   "outputs": []
  },
  {
   "metadata": {
    "ExecuteTime": {
     "end_time": "2024-11-21T15:41:41.694326Z",
     "start_time": "2024-11-21T15:41:41.584537Z"
    }
   },
   "cell_type": "code",
   "source": [
    "\n",
    "X_train_resampled_exp2, y_train_resampled_exp2 = apply_smote(X_train_imputed_exp2, y_train_encoded_exp2, 1)"
   ],
   "id": "949a1028e3364635",
   "execution_count": 37,
   "outputs": []
  },
  {
   "metadata": {
    "ExecuteTime": {
     "end_time": "2024-11-21T15:41:41.818524Z",
     "start_time": "2024-11-21T15:41:41.805106Z"
    }
   },
   "cell_type": "code",
   "source": [
    "# Rimuovi le colonne non necessarie per evitare errori nei nomi delle feature\n",
    "X_val_imputed_exp2 = X_val_imputed_exp2.drop(columns=[\"Class\", \"File Name\", \"Parent\", \"Subclass\"], errors='ignore')\n",
    "X_test_imputed_exp2 = X_test_imputed_exp2.drop(columns=[\"Class\", \"File Name\", \"Parent\", \"Subclass\"], errors='ignore')"
   ],
   "id": "ffb70026b425b922",
   "execution_count": 38,
   "outputs": []
  },
  {
   "metadata": {},
   "cell_type": "markdown",
   "source": "### 3.1 Random Forest Model",
   "id": "b356ac4491203526"
  },
  {
   "metadata": {
    "ExecuteTime": {
     "end_time": "2024-11-21T15:42:19.869098Z",
     "start_time": "2024-11-21T15:41:41.914664Z"
    }
   },
   "cell_type": "code",
   "source": "random_forest_model_exp2 = train_random_forest(X_train_resampled_exp2, y_train_resampled_exp2, X_val_imputed_exp2, y_val_encoded_exp2, X_test_imputed_exp2, y_test_encoded_exp2)",
   "id": "bf17ebca25863afe",
   "execution_count": 39,
   "outputs": []
  },
  {
   "metadata": {
    "ExecuteTime": {
     "end_time": "2024-11-21T15:42:20.449933Z",
     "start_time": "2024-11-21T15:42:20.013995Z"
    }
   },
   "cell_type": "code",
   "source": "rf_plot_confusion_matrices(random_forest_model_exp2, X_val_imputed_exp2, y_val_encoded_exp2, X_test_imputed_exp2, y_test_encoded_exp2)",
   "id": "621b47c23a711bf6",
   "execution_count": 40,
   "outputs": []
  },
  {
   "metadata": {},
   "cell_type": "markdown",
   "source": "### 3.2 SVM Model ",
   "id": "97ee91f816302bbf"
  },
  {
   "metadata": {
    "ExecuteTime": {
     "end_time": "2024-11-21T15:42:54.149168Z",
     "start_time": "2024-11-21T15:42:20.545717Z"
    }
   },
   "cell_type": "code",
   "source": "svm_model_exp2 = train_svm(X_train_resampled_exp2, y_train_resampled_exp2, X_val_imputed_exp2, y_val_encoded_exp2, X_test_imputed_exp2, y_test_encoded_exp2)",
   "id": "2a89f73774431758",
   "execution_count": 41,
   "outputs": []
  },
  {
   "metadata": {
    "ExecuteTime": {
     "end_time": "2024-11-21T15:42:58.293282Z",
     "start_time": "2024-11-21T15:42:54.237336Z"
    }
   },
   "cell_type": "code",
   "source": "svm_plot_confusion_matrices(svm_model_exp2, X_val_imputed_exp2, y_val_encoded_exp2, X_test_imputed_exp2, y_test_encoded_exp2)",
   "id": "8e8105212f914b7f",
   "execution_count": 42,
   "outputs": []
  },
  {
   "metadata": {},
   "cell_type": "markdown",
   "source": "3.3 LightGBM Model",
   "id": "485ac50efaf0f240"
  },
  {
   "metadata": {
    "ExecuteTime": {
     "end_time": "2024-11-21T15:43:02.404898Z",
     "start_time": "2024-11-21T15:42:58.388994Z"
    }
   },
   "cell_type": "code",
   "source": "lightgbm_model_exp2 = train_lightgbm(X_train_resampled_exp2, y_train_resampled_exp2, X_val_imputed_exp2, y_val_encoded_exp2, X_test_imputed_exp2, y_test_encoded_exp2)",
   "id": "977e5cf8740421e5",
   "execution_count": 43,
   "outputs": []
  },
  {
   "metadata": {
    "ExecuteTime": {
     "end_time": "2024-11-21T15:43:02.909452Z",
     "start_time": "2024-11-21T15:43:02.501336Z"
    }
   },
   "cell_type": "code",
   "source": "lightgbm_plot_confusion_matrices(lightgbm_model_exp2, X_val_imputed_exp2, y_val_encoded_exp2, X_test_imputed_exp2, y_test_encoded_exp2)",
   "id": "d166ad74b4b614cd",
   "execution_count": 44,
   "outputs": []
  }
 ],
 "metadata": {
  "kernelspec": {
   "display_name": "Python 3 (ipykernel)",
   "language": "python",
   "name": "python3"
  },
  "language_info": {
   "codemirror_mode": {
    "name": "ipython",
    "version": 3
   },
   "file_extension": ".py",
   "mimetype": "text/x-python",
   "name": "python",
   "nbconvert_exporter": "python",
   "pygments_lexer": "ipython3",
   "version": "3.10.0"
  }
 },
 "nbformat": 4,
 "nbformat_minor": 5
}
