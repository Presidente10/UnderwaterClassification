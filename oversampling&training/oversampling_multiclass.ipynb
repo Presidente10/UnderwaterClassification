{
 "cells": [
  {
   "cell_type": "code",
   "source": [
    "import pandas as pd\n",
    "\n",
    "from oversampling_multiclass import split_dataset, apply_smote_multiclass, train_random_forest_multiclass, train_svm_multiclass, train_lightgbm, rf_plot_confusion_matrices, svm_plot_confusion_matrices, lightgbm_plot_confusion_matrices"
   ],
   "metadata": {
    "collapsed": false,
    "ExecuteTime": {
     "end_time": "2024-11-21T15:34:17.625640Z",
     "start_time": "2024-11-21T15:34:16.007827Z"
    }
   },
   "id": "21849e8ea4e24616",
   "execution_count": 1,
   "outputs": []
  },
  {
   "cell_type": "markdown",
   "source": [
    "# CLASSIFICAZIONE MULTICLASSE"
   ],
   "metadata": {
    "collapsed": false
   },
   "id": "9c1cc82f5a26fb65"
  },
  {
   "cell_type": "code",
   "source": "csv_file_path = 'C:/underwater-classification/features_extraction/audio_features.csv'",
   "metadata": {
    "collapsed": false,
    "ExecuteTime": {
     "end_time": "2024-11-21T15:34:17.657174Z",
     "start_time": "2024-11-21T15:34:17.638656Z"
    }
   },
   "id": "8bc4fe5547e6d57d",
   "execution_count": 2,
   "outputs": []
  },
  {
   "metadata": {
    "collapsed": false,
    "ExecuteTime": {
     "end_time": "2024-11-21T15:34:18.035286Z",
     "start_time": "2024-11-21T15:34:17.878622Z"
    }
   },
   "cell_type": "code",
   "source": "df = pd.read_csv(csv_file_path)",
   "id": "b6d2a81beb203ba7",
   "execution_count": 3,
   "outputs": []
  },
  {
   "metadata": {
    "ExecuteTime": {
     "end_time": "2024-11-21T15:34:18.066291Z",
     "start_time": "2024-11-21T15:34:18.052722Z"
    }
   },
   "cell_type": "code",
   "source": [
    "print(\"Distribuzione delle subclass prima dello split:\")\n",
    "print(df['Subclass'].value_counts())"
   ],
   "id": "22a0de31bb6a11a2",
   "execution_count": 4,
   "outputs": []
  },
  {
   "metadata": {
    "ExecuteTime": {
     "end_time": "2024-11-21T15:34:18.208112Z",
     "start_time": "2024-11-21T15:34:18.173919Z"
    }
   },
   "cell_type": "code",
   "source": "df",
   "id": "17625b635a5a94b9",
   "execution_count": 5,
   "outputs": []
  },
  {
   "metadata": {},
   "cell_type": "markdown",
   "source": "### Filtro dataframe",
   "id": "35fe9f8e3fd71d7f"
  },
  {
   "metadata": {
    "ExecuteTime": {
     "end_time": "2024-11-21T15:34:18.410278Z",
     "start_time": "2024-11-21T15:34:18.303991Z"
    }
   },
   "cell_type": "code",
   "source": [
    "df['File Name'] = df['File Name'].str[:-4]\n",
    "df = df[df['Class'] == 'Target'].copy()\n",
    "# Aggiungi una colonna \"Parent\" che contiene il prefisso dei file per garantire la coesione dei segmenti\n",
    "df['Parent'] = df['File Name'].str.extract(r'^(.*?)(?=_seg)')\n",
    "\n",
    "# Filtra le subclass con almeno 10 parent distinti\n",
    "parent_counts = df.groupby('Subclass')['Parent'].nunique()\n",
    "subclasses_to_keep = parent_counts[parent_counts >= 10].index\n",
    "df = df[df['Subclass'].isin(subclasses_to_keep)].copy()\n",
    "\n",
    "print(f\"Dimensione totale dopo il filtraggio: {df.shape[0]} campioni\")"
   ],
   "id": "50607d615fa2262e",
   "execution_count": 6,
   "outputs": []
  },
  {
   "cell_type": "markdown",
   "source": "## SPLIT",
   "metadata": {
    "collapsed": false
   },
   "id": "6ee7f04dce09a280"
  },
  {
   "cell_type": "code",
   "source": "X_train_imputed, X_val_imputed, X_test_imputed, y_train_encoded, y_val_encoded, y_test_encoded, subclass_encoder = split_dataset(df)",
   "metadata": {
    "collapsed": false,
    "ExecuteTime": {
     "end_time": "2024-11-21T15:34:19.001791Z",
     "start_time": "2024-11-21T15:34:18.730681Z"
    }
   },
   "id": "c9ef5c3a3ae78ff4",
   "execution_count": 7,
   "outputs": []
  },
  {
   "metadata": {
    "ExecuteTime": {
     "end_time": "2024-11-21T15:34:44.348930Z",
     "start_time": "2024-11-21T15:34:19.179006Z"
    }
   },
   "cell_type": "code",
   "source": "X_train_imputed[['File Name', 'Parent', 'Subclass']].groupby(['Parent', 'File Name']).describe()",
   "id": "b43c8e58329f5248",
   "execution_count": 8,
   "outputs": []
  },
  {
   "metadata": {
    "ExecuteTime": {
     "end_time": "2024-11-21T15:34:48.079738Z",
     "start_time": "2024-11-21T15:34:44.381860Z"
    }
   },
   "cell_type": "code",
   "source": "X_test_imputed[['File Name', 'Parent','Subclass']].groupby(['Parent', 'File Name']).describe()",
   "id": "e3e5d5d4cf2eb20",
   "execution_count": 9,
   "outputs": []
  },
  {
   "metadata": {
    "ExecuteTime": {
     "end_time": "2024-11-21T15:34:51.661205Z",
     "start_time": "2024-11-21T15:34:48.127885Z"
    }
   },
   "cell_type": "code",
   "source": "X_val_imputed[['File Name', 'Parent','Subclass']].groupby(['Parent', 'File Name']).describe()\n",
   "id": "3ef49b801a2f2c40",
   "execution_count": 10,
   "outputs": []
  },
  {
   "cell_type": "markdown",
   "source": "## SMOTE",
   "metadata": {
    "collapsed": false
   },
   "id": "807ab2bef2bf8021"
  },
  {
   "cell_type": "code",
   "source": [
    "import os\n",
    "os.environ[\"LOKY_MAX_CPU_COUNT\"] = \"4\"  # Adatta questo valore al numero di core che desideri utilizzare"
   ],
   "metadata": {
    "collapsed": false,
    "ExecuteTime": {
     "end_time": "2024-11-21T15:34:51.769289Z",
     "start_time": "2024-11-21T15:34:51.754289Z"
    }
   },
   "id": "75d8d3b61d345a61",
   "execution_count": 11,
   "outputs": []
  },
  {
   "cell_type": "code",
   "source": "X_train_resampled, y_train_resampled = apply_smote_multiclass(X_train_imputed, y_train_encoded, 1)",
   "metadata": {
    "collapsed": false,
    "ExecuteTime": {
     "end_time": "2024-11-21T15:34:52.101936Z",
     "start_time": "2024-11-21T15:34:51.866488Z"
    }
   },
   "id": "5b4963aa594a882e",
   "execution_count": 12,
   "outputs": []
  },
  {
   "cell_type": "code",
   "source": [
    "print(pd.Series(subclass_encoder.inverse_transform(y_train_resampled)).value_counts())"
   ],
   "metadata": {
    "collapsed": false,
    "ExecuteTime": {
     "end_time": "2024-11-21T15:34:52.164657Z",
     "start_time": "2024-11-21T15:34:52.151024Z"
    }
   },
   "id": "e164c4cac28fa6c2",
   "execution_count": 13,
   "outputs": []
  },
  {
   "cell_type": "code",
   "source": [
    "print(f\"\\nDistribuzione delle classi nel set di validation:\\n \\n{pd.Series(y_val_encoded).value_counts()} \")"
   ],
   "metadata": {
    "collapsed": false,
    "ExecuteTime": {
     "end_time": "2024-11-21T15:34:52.211580Z",
     "start_time": "2024-11-21T15:34:52.199552Z"
    }
   },
   "id": "dc23cef070da7efc",
   "execution_count": 14,
   "outputs": []
  },
  {
   "cell_type": "code",
   "source": [
    "\n",
    "print(f\"\\nDistribuzione delle classi nel set di test:\\n \\n{pd.Series(y_test_encoded).value_counts()} \")"
   ],
   "metadata": {
    "collapsed": false,
    "ExecuteTime": {
     "end_time": "2024-11-21T15:34:52.274520Z",
     "start_time": "2024-11-21T15:34:52.267189Z"
    }
   },
   "id": "e5bf11dfba883c82",
   "execution_count": 15,
   "outputs": []
  },
  {
   "cell_type": "code",
   "source": [
    "# Stampare le forme dei dataset\n",
    "print(\"\\nForme dei dataset:\")\n",
    "print(f\"Train: {X_train_imputed.shape}\") #validation\n",
    "print(f\"Validation: {X_val_imputed.shape}\") #validation\n",
    "print(f\"Test: {X_test_imputed.shape}\") #test\n",
    "print(f\"Train bilanciato e filtrato: {X_train_resampled.shape}\") #train dopo SMOTE"
   ],
   "metadata": {
    "collapsed": false,
    "ExecuteTime": {
     "end_time": "2024-11-21T15:34:52.321790Z",
     "start_time": "2024-11-21T15:34:52.315252Z"
    }
   },
   "id": "5e3e48e199bfe938",
   "execution_count": 16,
   "outputs": []
  },
  {
   "cell_type": "markdown",
   "source": [
    "# Esperimento 1 "
   ],
   "metadata": {
    "collapsed": false
   },
   "id": "1e58cf45b921fce5"
  },
  {
   "cell_type": "markdown",
   "source": [
    "Esperimento effettuato prendendo come riferimento alcune features numeriche da \"Malfante et al.\""
   ],
   "metadata": {
    "collapsed": false
   },
   "id": "291e1a8d7c87f2e8"
  },
  {
   "metadata": {
    "ExecuteTime": {
     "end_time": "2024-11-21T15:34:52.383486Z",
     "start_time": "2024-11-21T15:34:52.369733Z"
    }
   },
   "cell_type": "code",
   "source": [
    "# Rimuovi le colonne non necessarie per evitare errori nei nomi delle feature\n",
    "X_val_imputed = X_val_imputed.drop(columns=[\"Class\", \"File Name\", \"Parent\", \"Subclass\"], errors='ignore')\n",
    "X_test_imputed = X_test_imputed.drop(columns=[\"Class\", \"File Name\", \"Parent\", \"Subclass\"], errors='ignore')\n"
   ],
   "id": "488cc762696e69bd",
   "execution_count": 17,
   "outputs": []
  },
  {
   "metadata": {},
   "cell_type": "markdown",
   "source": "### 1.1 Random Forest Model",
   "id": "c1cd722687bf483"
  },
  {
   "cell_type": "code",
   "source": "random_forest_model = train_random_forest_multiclass(X_train_resampled, y_train_resampled, X_val_imputed, y_val_encoded, X_test_imputed, y_test_encoded)",
   "metadata": {
    "collapsed": false,
    "ExecuteTime": {
     "end_time": "2024-11-21T15:42:43.055990Z",
     "start_time": "2024-11-21T15:34:52.419865Z"
    }
   },
   "id": "eb2bc0074285ff3d",
   "execution_count": 18,
   "outputs": []
  },
  {
   "cell_type": "code",
   "source": "rf_plot_confusion_matrices(random_forest_model, X_val_imputed, y_val_encoded, X_test_imputed, y_test_encoded)\n",
   "metadata": {
    "collapsed": false,
    "ExecuteTime": {
     "end_time": "2024-11-21T15:42:43.508576Z",
     "start_time": "2024-11-21T15:42:43.088128Z"
    }
   },
   "id": "8de01a6663b338fb",
   "execution_count": 19,
   "outputs": []
  },
  {
   "metadata": {},
   "cell_type": "markdown",
   "source": "### 1.2 SVM Model",
   "id": "870521eff5b6c9a7"
  },
  {
   "cell_type": "code",
   "source": "svm_model = train_svm_multiclass(X_train_resampled, y_train_resampled, X_val_imputed, y_val_encoded, X_test_imputed, y_test_encoded)",
   "metadata": {
    "collapsed": false,
    "ExecuteTime": {
     "end_time": "2024-11-21T15:43:47.566852Z",
     "start_time": "2024-11-21T15:42:43.541833Z"
    }
   },
   "id": "6da1a1ccff33ba51",
   "execution_count": 20,
   "outputs": []
  },
  {
   "cell_type": "code",
   "source": "svm_plot_confusion_matrices(svm_model, X_val_imputed, y_val_encoded, X_test_imputed, y_test_encoded)",
   "metadata": {
    "collapsed": false,
    "ExecuteTime": {
     "end_time": "2024-11-21T15:44:04.074275Z",
     "start_time": "2024-11-21T15:43:47.599907Z"
    }
   },
   "id": "738a8d4b7d9ef538",
   "execution_count": 21,
   "outputs": []
  },
  {
   "metadata": {},
   "cell_type": "markdown",
   "source": "### 1.3 LightGBM Model",
   "id": "b2494386891949f7"
  },
  {
   "cell_type": "code",
   "source": "lightgbm_model = train_lightgbm(X_train_resampled, y_train_resampled, X_val_imputed, y_val_encoded, X_test_imputed, y_test_encoded)",
   "metadata": {
    "collapsed": false,
    "ExecuteTime": {
     "end_time": "2024-11-21T15:44:17.269505Z",
     "start_time": "2024-11-21T15:44:04.107504Z"
    }
   },
   "id": "61d360a699b90073",
   "execution_count": 22,
   "outputs": []
  },
  {
   "cell_type": "code",
   "source": "lightgbm_plot_confusion_matrices(lightgbm_model, X_val_imputed, y_val_encoded, X_test_imputed, y_test_encoded)",
   "metadata": {
    "collapsed": false,
    "ExecuteTime": {
     "end_time": "2024-11-21T15:44:17.945513Z",
     "start_time": "2024-11-21T15:44:17.317633Z"
    }
   },
   "id": "f5286ab7c1e31733",
   "execution_count": 23,
   "outputs": []
  },
  {
   "cell_type": "markdown",
   "source": [
    "## Esperimento 2"
   ],
   "metadata": {
    "collapsed": false
   },
   "id": "f536df1b194bbfb"
  },
  {
   "cell_type": "markdown",
   "source": [
    "Esperimento effettuato prendendo come riferimento alcune features numeriche da “BirdNet”"
   ],
   "metadata": {
    "collapsed": false
   },
   "id": "5f5a9975818905f6"
  },
  {
   "metadata": {
    "ExecuteTime": {
     "end_time": "2024-11-21T15:44:18.194451Z",
     "start_time": "2024-11-21T15:44:17.978174Z"
    }
   },
   "cell_type": "code",
   "source": [
    "csv_file_path_exp1 = 'C:/underwater-classification/features_extraction/exp1_audio_features.csv'\n",
    "df_exp1 = pd.read_csv(csv_file_path_exp1)"
   ],
   "id": "ba8f15e6f38f2a5b",
   "execution_count": 24,
   "outputs": []
  },
  {
   "metadata": {
    "ExecuteTime": {
     "end_time": "2024-11-21T15:44:18.493280Z",
     "start_time": "2024-11-21T15:44:18.243502Z"
    }
   },
   "cell_type": "code",
   "source": [
    "df_exp1['File Name'] = df_exp1['File Name'].str[:-4]\n",
    "df_exp1 = df_exp1[df_exp1['Class'] == 'Target'].copy()\n",
    "# Aggiungi una colonna \"Parent\" che contiene il prefisso dei file per garantire la coesione dei segmenti\n",
    "df_exp1['Parent'] = df_exp1['File Name'].str.extract(r'^(.*?)(?=_seg)')\n",
    "\n",
    "# Filtra le subclass con almeno 10 parent distinti\n",
    "parent_counts = df_exp1.groupby('Subclass')['Parent'].nunique()\n",
    "subclasses_to_keep = parent_counts[parent_counts >= 10].index\n",
    "df_exp1 = df_exp1[df_exp1['Subclass'].isin(subclasses_to_keep)].copy()\n",
    "\n",
    "print(f\"Dimensione totale dopo il filtraggio: {df_exp1.shape[0]} campioni\")"
   ],
   "id": "490c03ebf3cac746",
   "execution_count": 25,
   "outputs": []
  },
  {
   "metadata": {
    "ExecuteTime": {
     "end_time": "2024-11-21T15:44:19.054638Z",
     "start_time": "2024-11-21T15:44:18.542226Z"
    }
   },
   "cell_type": "code",
   "source": [
    "X_train_imputed_exp1, X_val_imputed_exp1, X_test_imputed_exp1, y_train_encoded_exp1, y_val_encoded_exp1, y_test_encoded_exp1, subclass_encoder_exp1 = split_dataset(df_exp1)\n",
    "X_train_resampled_exp1, y_train_resampled_exp1 = apply_smote_multiclass(X_train_imputed_exp1, y_train_encoded_exp1, 1)"
   ],
   "id": "f41af14abd8c1b94",
   "execution_count": 26,
   "outputs": []
  },
  {
   "metadata": {
    "ExecuteTime": {
     "end_time": "2024-11-21T15:44:19.132769Z",
     "start_time": "2024-11-21T15:44:19.120100Z"
    }
   },
   "cell_type": "code",
   "source": [
    "# Rimuovi le colonne non necessarie per evitare errori nei nomi delle feature\n",
    "X_val_imputed_exp1 = X_val_imputed_exp1.drop(columns=[\"Class\", \"File Name\", \"Parent\", \"Subclass\"], errors='ignore')\n",
    "X_test_imputed_exp1 = X_test_imputed_exp1.drop(columns=[\"Class\", \"File Name\", \"Parent\", \"Subclass\"], errors='ignore')"
   ],
   "id": "aceb19099f0c383b",
   "execution_count": 27,
   "outputs": []
  },
  {
   "metadata": {},
   "cell_type": "markdown",
   "source": "### 2.1 Random Forest Model",
   "id": "36409364a8e08ab1"
  },
  {
   "metadata": {
    "ExecuteTime": {
     "end_time": "2024-11-21T15:55:43.661360Z",
     "start_time": "2024-11-21T15:44:19.195868Z"
    }
   },
   "cell_type": "code",
   "source": "random_forest_model_exp1 = train_random_forest_multiclass(X_train_resampled_exp1, y_train_resampled_exp1, X_val_imputed_exp1, y_val_encoded_exp1, X_test_imputed_exp1, y_test_encoded_exp1)",
   "id": "a0ad0286c666fa53",
   "execution_count": 28,
   "outputs": []
  },
  {
   "metadata": {
    "ExecuteTime": {
     "end_time": "2024-11-21T15:55:44.195311Z",
     "start_time": "2024-11-21T15:55:43.728209Z"
    }
   },
   "cell_type": "code",
   "source": "rf_plot_confusion_matrices(random_forest_model_exp1, X_val_imputed_exp1, y_val_encoded_exp1, X_test_imputed_exp1, y_test_encoded_exp1)",
   "id": "3caf3e7b2aae7d77",
   "execution_count": 29,
   "outputs": []
  },
  {
   "metadata": {},
   "cell_type": "markdown",
   "source": "### 2.2 SVM Model",
   "id": "d7c3de12f8ba780c"
  },
  {
   "cell_type": "code",
   "source": "svm_model_exp1 = train_svm_multiclass(X_train_resampled_exp1, y_train_resampled_exp1, X_val_imputed_exp1, y_val_encoded_exp1, X_test_imputed_exp1, y_test_encoded_exp1)",
   "metadata": {
    "collapsed": false,
    "ExecuteTime": {
     "end_time": "2024-11-21T15:57:03.060883Z",
     "start_time": "2024-11-21T15:55:44.258845Z"
    }
   },
   "id": "af776ff3ab237c35",
   "execution_count": 30,
   "outputs": []
  },
  {
   "cell_type": "code",
   "source": "svm_plot_confusion_matrices(svm_model_exp1, X_val_imputed_exp1, y_val_encoded_exp1, X_test_imputed_exp1, y_test_encoded_exp1)",
   "metadata": {
    "collapsed": false,
    "ExecuteTime": {
     "end_time": "2024-11-21T15:57:21.702508Z",
     "start_time": "2024-11-21T15:57:03.124807Z"
    }
   },
   "id": "4b8d05645dde5408",
   "execution_count": 31,
   "outputs": []
  },
  {
   "metadata": {},
   "cell_type": "markdown",
   "source": "### 2.3 LightGBM Model",
   "id": "a8b807f7a56fad49"
  },
  {
   "cell_type": "code",
   "source": "lightgbm_model_exp1 = train_lightgbm(X_train_resampled_exp1, y_train_resampled_exp1, X_val_imputed_exp1, y_val_encoded_exp1, X_test_imputed_exp1, y_test_encoded_exp1)",
   "metadata": {
    "collapsed": false,
    "ExecuteTime": {
     "end_time": "2024-11-21T15:57:30.118506Z",
     "start_time": "2024-11-21T15:57:21.750503Z"
    }
   },
   "id": "2a04ddd5aef7002e",
   "execution_count": 32,
   "outputs": []
  },
  {
   "cell_type": "code",
   "source": "lightgbm_plot_confusion_matrices(lightgbm_model_exp1, X_val_imputed_exp1, y_val_encoded_exp1, X_test_imputed_exp1, y_test_encoded_exp1)",
   "metadata": {
    "collapsed": false,
    "ExecuteTime": {
     "end_time": "2024-11-21T15:57:30.903795Z",
     "start_time": "2024-11-21T15:57:30.185027Z"
    }
   },
   "id": "17fd7633b1edca89",
   "execution_count": 33,
   "outputs": []
  },
  {
   "cell_type": "markdown",
   "source": [
    "## Esperimento 3"
   ],
   "metadata": {
    "collapsed": false
   },
   "id": "6c32a68d45f28e34"
  },
  {
   "cell_type": "markdown",
   "source": [
    "Esperimento effettuato prendendo come riferimento features numeriche da \"A Survey on Audio Feature Extraction for Automatic Music Genre Classification\" di Dhamodaran et al."
   ],
   "metadata": {
    "collapsed": false
   },
   "id": "cd0195eb5ec8e124"
  },
  {
   "metadata": {
    "ExecuteTime": {
     "end_time": "2024-11-21T15:57:31.167924Z",
     "start_time": "2024-11-21T15:57:30.951526Z"
    }
   },
   "cell_type": "code",
   "source": [
    "csv_file_path_exp2 = 'C:/underwater-classification/features_extraction/exp2_audio_features.csv'\n",
    "df_exp2 = pd.read_csv(csv_file_path_exp2)\n",
    "df_exp2 = df_exp2[df_exp2['Class'] == 'Target'].copy()"
   ],
   "id": "41119886db910f42",
   "execution_count": 34,
   "outputs": []
  },
  {
   "metadata": {
    "ExecuteTime": {
     "end_time": "2024-11-21T15:57:31.322779Z",
     "start_time": "2024-11-21T15:57:31.216922Z"
    }
   },
   "cell_type": "code",
   "source": [
    "df_exp2['File Name'] = df_exp2['File Name'].str[:-4]\n",
    "df_exp2 = df_exp2[df_exp2['Class'] == 'Target'].copy()\n",
    "# Aggiungi una colonna \"Parent\" che contiene il prefisso dei file per garantire la coesione dei segmenti\n",
    "df_exp2['Parent'] = df_exp2['File Name'].str.extract(r'^(.*?)(?=_seg)')\n",
    "\n",
    "# Filtra le subclass con almeno 10 parent distinti\n",
    "parent_counts = df_exp2.groupby('Subclass')['Parent'].nunique()\n",
    "subclasses_to_keep = parent_counts[parent_counts >= 10].index\n",
    "df_exp2 = df_exp2[df_exp2['Subclass'].isin(subclasses_to_keep)].copy()\n",
    "\n",
    "print(f\"Dimensione totale dopo il filtraggio: {df_exp2.shape[0]} campioni\")"
   ],
   "id": "b159da39d86f6144",
   "execution_count": 35,
   "outputs": []
  },
  {
   "metadata": {
    "ExecuteTime": {
     "end_time": "2024-11-21T15:57:31.995584Z",
     "start_time": "2024-11-21T15:57:31.387453Z"
    }
   },
   "cell_type": "code",
   "source": [
    "X_train_imputed_exp2, X_val_imputed_exp2, X_test_imputed_exp2, y_train_encoded_exp2, y_val_encoded_exp2, y_test_encoded_exp2, subclass_encoder_exp2 = split_dataset(df_exp2)\n",
    "X_train_resampled_exp2, y_train_resampled_exp2 = apply_smote_multiclass(X_train_imputed_exp2, y_train_encoded_exp2, 1)\n",
    "\n",
    "# Rimuovi le colonne non necessarie per evitare errori nei nomi delle feature\n",
    "X_val_imputed_exp2 = X_val_imputed_exp2.drop(columns=[\"Class\", \"File Name\", \"Parent\", \"Subclass\"], errors='ignore')\n",
    "X_test_imputed_exp2 = X_test_imputed_exp2.drop(columns=[\"Class\", \"File Name\", \"Parent\", \"Subclass\"], errors='ignore')"
   ],
   "id": "6aab06fd55dff8d3",
   "execution_count": 36,
   "outputs": []
  },
  {
   "metadata": {},
   "cell_type": "markdown",
   "source": "### 3.1 Random Forest Model",
   "id": "54f322b4f634bf57"
  },
  {
   "cell_type": "code",
   "source": "random_forest_model_exp2 = train_random_forest_multiclass(X_train_resampled_exp2, y_train_resampled_exp2, X_val_imputed_exp2, y_val_encoded_exp2, X_test_imputed_exp2, y_test_encoded_exp2)",
   "metadata": {
    "ExecuteTime": {
     "end_time": "2024-11-21T16:08:07.183927Z",
     "start_time": "2024-11-21T15:57:32.076321Z"
    }
   },
   "id": "519e76c4be384e4c",
   "execution_count": 37,
   "outputs": []
  },
  {
   "metadata": {
    "collapsed": false,
    "ExecuteTime": {
     "end_time": "2024-11-21T16:08:07.718572Z",
     "start_time": "2024-11-21T16:08:07.248344Z"
    }
   },
   "cell_type": "code",
   "source": "rf_plot_confusion_matrices(random_forest_model_exp2, X_val_imputed_exp2, y_val_encoded_exp2, X_test_imputed_exp2, y_test_encoded_exp2)",
   "id": "cfa91db8bacb5443",
   "execution_count": 38,
   "outputs": []
  },
  {
   "metadata": {},
   "cell_type": "markdown",
   "source": "### 3.2 SVM Model",
   "id": "a4338fe2eb10785a"
  },
  {
   "cell_type": "code",
   "source": "svm_model_exp2 = train_svm_multiclass(X_train_resampled_exp2, y_train_resampled_exp2, X_val_imputed_exp2, y_val_encoded_exp2, X_test_imputed_exp2, y_test_encoded_exp2)",
   "metadata": {
    "collapsed": false,
    "ExecuteTime": {
     "end_time": "2024-11-21T16:09:02.333151Z",
     "start_time": "2024-11-21T16:08:07.798796Z"
    }
   },
   "id": "8b62a73eb3ff2c11",
   "execution_count": 39,
   "outputs": []
  },
  {
   "cell_type": "code",
   "source": "svm_plot_confusion_matrices(svm_model_exp2, X_val_imputed_exp2, y_val_encoded_exp2, X_test_imputed_exp2, y_test_encoded_exp2)",
   "metadata": {
    "collapsed": false,
    "ExecuteTime": {
     "end_time": "2024-11-21T16:09:17.872058Z",
     "start_time": "2024-11-21T16:09:02.414563Z"
    }
   },
   "id": "3dc9c791007adc27",
   "execution_count": 40,
   "outputs": []
  },
  {
   "metadata": {},
   "cell_type": "markdown",
   "source": "### 3.3 LightGBM Model",
   "id": "b548838347f06e28"
  },
  {
   "cell_type": "code",
   "source": "lightgbm_model_exp2 = train_lightgbm(X_train_resampled_exp2, y_train_resampled_exp2, X_val_imputed_exp2, y_val_encoded_exp2, X_test_imputed_exp2, y_test_encoded_exp2)",
   "metadata": {
    "collapsed": false,
    "ExecuteTime": {
     "end_time": "2024-11-21T16:09:25.855382Z",
     "start_time": "2024-11-21T16:09:17.951830Z"
    }
   },
   "id": "ced8adbdd895566c",
   "execution_count": 41,
   "outputs": []
  },
  {
   "cell_type": "code",
   "source": "lightgbm_plot_confusion_matrices(lightgbm_model_exp2, X_val_imputed_exp2, y_val_encoded_exp2, X_test_imputed_exp2, y_test_encoded_exp2)",
   "metadata": {
    "collapsed": false,
    "ExecuteTime": {
     "end_time": "2024-11-21T16:09:26.599498Z",
     "start_time": "2024-11-21T16:09:25.952640Z"
    }
   },
   "id": "fe0c77ebb69a0a5b",
   "execution_count": 42,
   "outputs": []
  }
 ],
 "metadata": {
  "kernelspec": {
   "display_name": "Python 3",
   "language": "python",
   "name": "python3"
  },
  "language_info": {
   "codemirror_mode": {
    "name": "ipython",
    "version": 2
   },
   "file_extension": ".py",
   "mimetype": "text/x-python",
   "name": "python",
   "nbconvert_exporter": "python",
   "pygments_lexer": "ipython2",
   "version": "2.7.6"
  }
 },
 "nbformat": 4,
 "nbformat_minor": 5
}
