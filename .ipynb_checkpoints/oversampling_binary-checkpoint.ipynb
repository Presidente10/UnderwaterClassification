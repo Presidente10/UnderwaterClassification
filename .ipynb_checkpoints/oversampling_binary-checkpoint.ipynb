{
 "cells": [
  {
   "cell_type": "code",
   "source": [
    "import pandas as pd\n",
    "\n",
    "import oversampling_binary\n",
    "from oversampling_binary import split_dataset, apply_smote\n",
    "from sklearn.metrics import confusion_matrix\n",
    "import seaborn as sns\n",
    "from sklearn.preprocessing import LabelEncoder\n",
    "import matplotlib.pyplot as plt\n"
   ],
   "metadata": {
    "collapsed": false,
    "ExecuteTime": {
     "end_time": "2024-10-22T07:41:14.772737Z",
     "start_time": "2024-10-22T07:41:14.306503Z"
    }
   },
   "id": "35178ba2aafdac3e",
   "execution_count": 1,
   "outputs": []
  },
  {
   "cell_type": "markdown",
   "source": [
    "# CLASSIFICAZIONE BINARIA"
   ],
   "metadata": {
    "collapsed": false
   },
   "id": "3bfe06d1f78bd297"
  },
  {
   "cell_type": "markdown",
   "source": [
    "Carica e prepara i dati"
   ],
   "metadata": {
    "collapsed": false
   },
   "id": "c5d4a711c1a85ccf"
  },
  {
   "cell_type": "code",
   "source": [
    "X_train_imputed, X_val_imputed, X_test_imputed, y_train_encoded_filtered, y_val_encoded, y_test_encoded, subclasses_train, class_encoder = split_dataset('audio_features.csv')"
   ],
   "metadata": {
    "collapsed": false,
    "ExecuteTime": {
     "end_time": "2024-10-22T07:41:15.038873Z",
     "start_time": "2024-10-22T07:41:14.774013Z"
    }
   },
   "id": "79b04d57c7fd9409",
   "execution_count": 2,
   "outputs": []
  },
  {
   "cell_type": "markdown",
   "source": [
    "## SMOTE"
   ],
   "metadata": {
    "collapsed": false
   },
   "id": "52836f69c58216cf"
  },
  {
   "cell_type": "code",
   "source": [
    "X_train_resampled, y_train_resampled = apply_smote(X_train_imputed, y_train_encoded_filtered, subclasses_train)"
   ],
   "metadata": {
    "collapsed": false,
    "ExecuteTime": {
     "end_time": "2024-10-22T07:41:17.022341Z",
     "start_time": "2024-10-22T07:41:15.040381Z"
    }
   },
   "id": "f921911c14ccb3b",
   "execution_count": 3,
   "outputs": []
  },
  {
   "cell_type": "code",
   "source": [
    "# Imposta pandas per visualizzare tutto il contenuto\n",
    "pd.set_option('display.max_rows', None)  # Rimuove la limitazione del numero massimo di righe visualizzate\n",
    "pd.set_option('display.max_columns', None)  # Mostra tutte le colonne"
   ],
   "metadata": {
    "collapsed": false,
    "ExecuteTime": {
     "end_time": "2024-10-22T07:41:17.037724Z",
     "start_time": "2024-10-22T07:41:17.024343Z"
    }
   },
   "id": "48bc9f9010306780",
   "execution_count": 4,
   "outputs": []
  },
  {
   "cell_type": "code",
   "source": [
    "# Converti i dati in DataFrame\n",
    "X_train_df = pd.DataFrame(X_train_resampled)\n",
    "X_val_df = pd.DataFrame(X_val_imputed)\n",
    "X_test_df = pd.DataFrame(X_test_imputed)"
   ],
   "metadata": {
    "collapsed": false,
    "ExecuteTime": {
     "end_time": "2024-10-22T07:41:17.052855Z",
     "start_time": "2024-10-22T07:41:17.038822Z"
    }
   },
   "id": "d0e1d26619a57e90",
   "execution_count": 5,
   "outputs": []
  },
  {
   "cell_type": "code",
   "source": [
    "# Aggiungi le etichette per il target\n",
    "X_train_df['Class'] = y_train_resampled\n",
    "X_val_df['Class'] = y_val_encoded\n",
    "X_test_df['Class'] = y_test_encoded"
   ],
   "metadata": {
    "collapsed": false,
    "ExecuteTime": {
     "end_time": "2024-10-22T07:41:17.067530Z",
     "start_time": "2024-10-22T07:41:17.053857Z"
    }
   },
   "id": "5bcf824b52379895",
   "execution_count": 6,
   "outputs": []
  },
  {
   "cell_type": "markdown",
   "source": [
    "Train set: "
   ],
   "metadata": {
    "collapsed": false
   },
   "id": "37c333de39bd2367"
  },
  {
   "cell_type": "code",
   "source": [
    "print(\"Dati di addestramento dopo SMOTE:\")\n",
    "display(X_train_df)"
   ],
   "metadata": {
    "collapsed": false
   },
   "id": "de07efafa06f61e3",
   "execution_count": null,
   "outputs": []
  },
  {
   "cell_type": "markdown",
   "source": [
    "Validation set :"
   ],
   "metadata": {
    "collapsed": false
   },
   "id": "68d60d4417541368"
  },
  {
   "cell_type": "code",
   "source": [
    "print(\"Dati di validazione:\")\n",
    "display(X_val_df)"
   ],
   "metadata": {
    "collapsed": false
   },
   "id": "7ac275af82701a38",
   "execution_count": null,
   "outputs": []
  },
  {
   "cell_type": "markdown",
   "source": [
    "Test set :"
   ],
   "metadata": {
    "collapsed": false
   },
   "id": "c93860d924973e37"
  },
  {
   "cell_type": "code",
   "source": [
    "print(\"Dati di test:\")\n",
    "display(X_test_df)"
   ],
   "metadata": {
    "collapsed": false
   },
   "id": "7cc2a3a6a1d983ce",
   "execution_count": null,
   "outputs": []
  },
  {
   "cell_type": "markdown",
   "source": [
    "## Distribuzione delle classi nel set di addestramento dopo SMOTE"
   ],
   "metadata": {
    "collapsed": false
   },
   "id": "d72067d25993a720"
  },
  {
   "cell_type": "code",
   "source": [
    "y_train_resampled_df = pd.DataFrame(y_train_resampled, columns=['Class'])\n",
    "print(\"Distribuzione delle classi nel set di training dopo SMOTE:\")\n",
    "display(y_train_resampled_df['Class'].value_counts())"
   ],
   "metadata": {
    "collapsed": false
   },
   "id": "c817a21124aae37f",
   "execution_count": null,
   "outputs": []
  },
  {
   "cell_type": "markdown",
   "source": [
    "# ESPERIMENTO 0"
   ],
   "metadata": {
    "collapsed": false
   },
   "id": "95d59da0d5a01ebb"
  },
  {
   "cell_type": "markdown",
   "source": [
    "Esperimento effettuato prendendo come riferimento alcune features numeriche da \"Malfante et al.\""
   ],
   "metadata": {
    "collapsed": false
   },
   "id": "52df05e8d07831ec"
  },
  {
   "cell_type": "markdown",
   "source": [
    "## ADDESTRAMENTO RANDOM FOREST"
   ],
   "metadata": {
    "collapsed": false
   },
   "id": "b8f6f19ce2c9bf7"
  },
  {
   "cell_type": "code",
   "source": [
    "# Converte i DataFrame in ndarray\n",
    "X_train_resampled_array = X_train_resampled  # Supponendo che sia già un ndarray\n",
    "X_val_imputed_array = X_val_imputed.values  # Converti il DataFrame in ndarray\n",
    "X_test_imputed_array = X_test_imputed.values  # Converti il DataFrame in ndarray"
   ],
   "metadata": {
    "collapsed": false,
    "ExecuteTime": {
     "end_time": "2024-10-22T07:41:58.801700Z",
     "start_time": "2024-10-22T07:41:58.786917Z"
    }
   },
   "id": "af2ad0c674f810bf",
   "execution_count": 7,
   "outputs": []
  },
  {
   "cell_type": "code",
   "source": [
    "# Addestra il modello Random Forest\n",
    "random_forest_model = oversampling_binary.train_random_forest(\n",
    "    X_train_resampled_array,\n",
    "    y_train_resampled,\n",
    "    X_val_imputed_array,\n",
    "    y_val_encoded,\n",
    "    X_test_imputed_array,\n",
    "    y_test_encoded\n",
    ")"
   ],
   "metadata": {
    "collapsed": false
   },
   "id": "395458e4d6b840",
   "execution_count": null,
   "outputs": []
  },
  {
   "cell_type": "code",
   "source": [
    "# 1. Effettua le predizioni sul set di convalida\n",
    "y_pred = random_forest_model.predict(X_val_imputed_array)\n",
    "\n",
    "# 2. Calcola la matrice di confusione\n",
    "cm = confusion_matrix(y_val_encoded, y_pred)\n",
    "\n",
    "# 3. Visualizza la matrice di confusione\n",
    "plt.figure(figsize=(8, 6))\n",
    "sns.heatmap(cm, annot=True, fmt='d', cmap='Blues', xticklabels=['Classe 0', 'Classe 1'], yticklabels=['Classe 0', 'Classe 1'])\n",
    "plt.xlabel('Predizioni')\n",
    "plt.ylabel('Label')\n",
    "plt.title('Matrice di Confusione')\n",
    "plt.show()"
   ],
   "metadata": {
    "collapsed": false
   },
   "id": "599899e14a88b4e5",
   "execution_count": null,
   "outputs": []
  },
  {
   "cell_type": "markdown",
   "source": [
    "# ADDESTRAMENTO SVM"
   ],
   "metadata": {
    "collapsed": false
   },
   "id": "6edeb41d9efcb156"
  },
  {
   "cell_type": "code",
   "source": [
    "import oversampling_binary"
   ],
   "metadata": {
    "collapsed": false,
    "ExecuteTime": {
     "end_time": "2024-10-22T07:42:39.217063Z",
     "start_time": "2024-10-22T07:42:39.202266Z"
    }
   },
   "id": "38c4d80168f4c0b4",
   "execution_count": 8,
   "outputs": []
  },
  {
   "cell_type": "code",
   "source": [
    "svm_model = oversampling_binary.train_svm(X_train_resampled_array, y_train_resampled, X_val_imputed_array, y_val_encoded, X_test_imputed_array, y_test_encoded)"
   ],
   "metadata": {
    "collapsed": false,
    "is_executing": true,
    "ExecuteTime": {
     "start_time": "2024-10-22T07:43:21.015172Z"
    }
   },
   "id": "86154cc0dd37225c",
   "execution_count": null,
   "outputs": []
  },
  {
   "cell_type": "code",
   "source": [
    "# 1. Effettua le predizioni sul set di convalida\n",
    "y_pred_svm = svm_model.predict(X_val_imputed_array)\n",
    "\n",
    "# 2. Calcola la matrice di confusione\n",
    "cm_svm = confusion_matrix(y_val_encoded, y_pred_svm)\n",
    "\n",
    "# 3. Visualizza la matrice di confusione\n",
    "plt.figure(figsize=(8, 6))\n",
    "sns.heatmap(cm_svm, annot=True, fmt='d', cmap='Blues', xticklabels=['Classe 0', 'Classe 1'], yticklabels=['Classe 0', 'Classe 1'])\n",
    "plt.xlabel('Predizioni')\n",
    "plt.ylabel('Vero')\n",
    "plt.title('Matrice di Confusione - Modello SVM')\n",
    "plt.show()"
   ],
   "metadata": {
    "collapsed": false
   },
   "id": "b2dbc9993a0a697c",
   "execution_count": null,
   "outputs": []
  },
  {
   "cell_type": "markdown",
   "source": [
    "# ADDESTRAMENTO LIGHT GBM"
   ],
   "metadata": {
    "collapsed": false
   },
   "id": "ea0e70a8216e4b0a"
  },
  {
   "cell_type": "code",
   "source": [
    "import os\n",
    "os.environ[\"LOKY_MAX_CPU_COUNT\"] = \"4\"  # Adatta questo valore al numero di core che desideri utilizzare"
   ],
   "metadata": {
    "collapsed": false
   },
   "id": "64a6f4ecd9423566",
   "execution_count": null,
   "outputs": []
  },
  {
   "cell_type": "code",
   "source": [
    "lightgbm_model = oversampling_binary.train_lightgbm(X_train_resampled_array, y_train_resampled, X_val_imputed_array, y_val_encoded, X_test_imputed_array, y_test_encoded, 10)"
   ],
   "metadata": {
    "collapsed": false
   },
   "id": "cab90223dcb903ca",
   "execution_count": null,
   "outputs": []
  },
  {
   "cell_type": "code",
   "source": [
    "# 1. Effettua le predizioni sul set di convalida\n",
    "y_pred_lightgbm = lightgbm_model.predict(X_val_imputed)\n",
    "\n",
    "# Se il modello restituisce probabilità, ottieni le etichette predette\n",
    "y_pred_lightgbm = (y_pred_lightgbm > 0.5).astype(int)  # Usa la soglia di 0.5 per classificazione binaria\n",
    "\n",
    "# 2. Calcola la matrice di confusione\n",
    "cm_lightgbm = confusion_matrix(y_val_encoded, y_pred_lightgbm)\n",
    "\n",
    "# 3. Visualizza la matrice di confusione\n",
    "plt.figure(figsize=(8, 6))\n",
    "sns.heatmap(cm_lightgbm, annot=True, fmt='d', cmap='Blues', xticklabels=['Classe 0', 'Classe 1'], yticklabels=['Classe 0', 'Classe 1'])\n",
    "plt.xlabel('Predizioni')\n",
    "plt.ylabel('Label')\n",
    "plt.title('Matrice di Confusione - Modello LightGBM')\n",
    "plt.show()"
   ],
   "metadata": {
    "collapsed": false
   },
   "id": "4d3a8072e87244b4",
   "execution_count": null,
   "outputs": []
  },
  {
   "cell_type": "markdown",
   "source": [
    "# Esperimento 1"
   ],
   "metadata": {
    "collapsed": false
   },
   "id": "253b162a9d4d5cb5"
  },
  {
   "cell_type": "markdown",
   "source": [
    "Esperimento effettuato prendendo come riferimento alcune features numeriche da \"BirdNet\""
   ],
   "metadata": {
    "collapsed": false
   },
   "id": "cd579dd366fcd778"
  },
  {
   "cell_type": "code",
   "source": [
    "#SPLIT\n",
    "X_train_imputed_exp1, X_val_imputed_exp1, X_test_imputed_exp1, y_train_encoded_filtered_exp1, y_val_encoded_exp1, y_test_encoded_exp1, subclasses_train, class_encoder_exp1 = split_dataset(\n",
    "    'exp1_audio_features.csv')"
   ],
   "metadata": {
    "collapsed": false
   },
   "id": "a692d8566078a8a0",
   "execution_count": null,
   "outputs": []
  },
  {
   "cell_type": "code",
   "source": [
    "import os\n",
    "os.environ[\"LOKY_MAX_CPU_COUNT\"] = \"4\"  # Adatta questo valore al numero di core che desideri utilizzare"
   ],
   "metadata": {
    "collapsed": false
   },
   "id": "b651da62c970843b",
   "execution_count": null,
   "outputs": []
  },
  {
   "cell_type": "code",
   "source": [
    "#SMOTE\n",
    "X_train_resampled_exp1, y_train_resampled_exp1 = apply_smote(X_train_imputed_exp1, y_train_encoded_filtered_exp1, subclasses_train)"
   ],
   "metadata": {
    "collapsed": false
   },
   "id": "7fdc2e5954b87add",
   "execution_count": null,
   "outputs": []
  },
  {
   "cell_type": "code",
   "source": [],
   "metadata": {
    "collapsed": false
   },
   "id": "7e4c48f570a9063b",
   "execution_count": null,
   "outputs": []
  },
  {
   "cell_type": "code",
   "source": [
    "y_train_resampled_df_exp1 = pd.DataFrame(y_train_resampled_exp1, columns=['Class'])\n",
    "print(\"Distribuzione delle classi nel set di training dopo SMOTE:\")\n",
    "display(y_train_resampled_df_exp1['Class'].value_counts())"
   ],
   "metadata": {
    "collapsed": false
   },
   "id": "777e65e6d5b69898",
   "execution_count": null,
   "outputs": []
  },
  {
   "cell_type": "code",
   "source": [
    "#TRAIN\n",
    "random_forest_model_exp1 = oversampling_binary.train_random_forest(X_train_resampled_exp1, y_train_resampled_exp1, X_val_imputed_exp1, y_val_encoded_exp1, X_test_imputed_exp1, y_test_encoded_exp1)"
   ],
   "metadata": {
    "collapsed": false
   },
   "id": "876f929ff4caeba8",
   "execution_count": null,
   "outputs": []
  },
  {
   "cell_type": "code",
   "source": [
    "# 1. Effettua le predizioni sul set di convalida\n",
    "y_pred_exp1 = random_forest_model_exp1.predict(X_val_imputed_exp1)\n",
    "\n",
    "# 2. Calcola la matrice di confusione\n",
    "cm_exp1 = confusion_matrix(y_val_encoded_exp1, y_pred_exp1)\n",
    "\n",
    "# 3. Visualizza la matrice di confusione\n",
    "plt.figure(figsize=(8, 6))\n",
    "sns.heatmap(cm_exp1, annot=True, fmt='d', cmap='Blues', xticklabels=['Classe 0', 'Classe 1'], yticklabels=['Classe 0', 'Classe 1'])\n",
    "plt.xlabel('Predizioni')\n",
    "plt.ylabel('Label')\n",
    "plt.title('Matrice di Confusione - Modello Random Forest Esperimento 1')\n",
    "plt.show()"
   ],
   "metadata": {
    "collapsed": false
   },
   "id": "112f148be1502c81",
   "execution_count": null,
   "outputs": []
  },
  {
   "cell_type": "code",
   "source": [
    "svm_model_exp1 = oversampling_binary.train_svm(X_train_resampled_exp1, y_train_resampled_exp1, X_val_imputed_exp1, y_val_encoded_exp1, X_test_imputed_exp1, y_test_encoded_exp1)"
   ],
   "metadata": {
    "collapsed": false
   },
   "id": "d3c88857d1fcf37c",
   "execution_count": null,
   "outputs": []
  },
  {
   "cell_type": "code",
   "source": [
    "# 1. Effettua le predizioni sul set di convalida\n",
    "y_pred_exp1_svm = svm_model_exp1.predict(X_val_imputed_exp1)\n",
    "\n",
    "# 2. Calcola la matrice di confusione\n",
    "cm_exp1_svm = confusion_matrix(y_val_encoded_exp1, y_pred_exp1_svm)\n",
    "\n",
    "# 3. Visualizza la matrice di confusione\n",
    "plt.figure(figsize=(8, 6))\n",
    "sns.heatmap(cm_exp1_svm, annot=True, fmt='d', cmap='Blues', xticklabels=['Classe 0', 'Classe 1'], yticklabels=['Classe 0', 'Classe 1'])\n",
    "plt.xlabel('Predizioni')\n",
    "plt.ylabel('Vero')\n",
    "plt.title('Matrice di Confusione - Modello SVM Esperimento 1')\n",
    "plt.show()"
   ],
   "metadata": {
    "collapsed": false
   },
   "id": "fff04f9b0c03d957",
   "execution_count": null,
   "outputs": []
  },
  {
   "cell_type": "code",
   "source": [
    "lightgbm_model_exp1 = oversampling_binary.train_lightgbm(X_train_resampled_exp1, y_train_resampled_exp1, X_val_imputed_exp1, y_val_encoded_exp1, X_val_imputed_exp1, y_test_encoded_exp1)"
   ],
   "metadata": {
    "collapsed": false
   },
   "id": "f9bddff0935fc040",
   "execution_count": null,
   "outputs": []
  },
  {
   "cell_type": "code",
   "source": [
    "# 1. Effettua le predizioni sul set di convalida\n",
    "y_pred_exp1_lightgbm = lightgbm_model_exp1.predict(X_val_imputed_exp1)\n",
    "\n",
    "# Se il modello restituisce probabilità, ottieni le etichette predette\n",
    "y_pred_exp1_lightgbm = (y_pred_exp1_lightgbm > 0.5).astype(int)  # Usa la soglia di 0.5 per la classificazione binaria\n",
    "\n",
    "# 2. Calcola la matrice di confusione\n",
    "cm_exp1_lightgbm = confusion_matrix(y_val_encoded_exp1, y_pred_exp1_lightgbm)\n",
    "\n",
    "# 3. Visualizza la matrice di confusione\n",
    "plt.figure(figsize=(8, 6))\n",
    "sns.heatmap(cm_exp1_lightgbm, annot=True, fmt='d', cmap='Blues', xticklabels=['Classe 0', 'Classe 1'], yticklabels=['Classe 0', 'Classe 1'])\n",
    "plt.xlabel('Predizioni')\n",
    "plt.ylabel('Label')\n",
    "plt.title('Matrice di Confusione - Modello LightGBM Esperimento 1')\n",
    "plt.show()"
   ],
   "metadata": {
    "collapsed": false
   },
   "id": "fd3e6a37d5d38c71",
   "execution_count": null,
   "outputs": []
  },
  {
   "cell_type": "markdown",
   "source": [
    "# ESPERIMENTO 2"
   ],
   "metadata": {
    "collapsed": false
   },
   "id": "122771b1067429d6"
  },
  {
   "cell_type": "markdown",
   "source": [
    "Esperimento effettuato prendendo come riferimento features numeriche da \"A Survey on Audio Feature Extraction for Automatic Music Genre Classification\" di Dhamodaran et al."
   ],
   "metadata": {
    "collapsed": false
   },
   "id": "49c77a8ef5392a31"
  },
  {
   "cell_type": "code",
   "source": [
    "#SPLIT\n",
    "X_train_imputed_exp2, X_val_imputed_exp2, X_test_imputed_exp2, y_train_encoded_filtered_exp2, y_val_encoded_exp2, y_test_encoded_exp2 = split_dataset(\n",
    "    'exp2_audio_features.csv')"
   ],
   "metadata": {
    "collapsed": false
   },
   "id": "496b3560d318b365",
   "execution_count": null,
   "outputs": []
  },
  {
   "cell_type": "code",
   "source": [
    "#SMOTE\n",
    "X_train_resampled_exp2, y_train_resampled_exp2 = apply_smote(X_train_imputed_exp2, y_train_encoded_filtered_exp2, subclasses_train)\n",
    "\n",
    "pd.set_option('display.max_rows', None)  # Rimuove la limitazione del numero massimo di righe visualizzate\n",
    "pd.set_option('display.max_columns', None)  # Mostra tutte le colonne"
   ],
   "metadata": {
    "collapsed": false
   },
   "id": "33d084f217535da2",
   "execution_count": null,
   "outputs": []
  },
  {
   "cell_type": "code",
   "source": [
    "# Converti i dati in DataFrame\n",
    "X_train_df_exp2 = pd.DataFrame(X_train_resampled_exp2)\n",
    "X_val_df_exp2 = pd.DataFrame(X_val_imputed_exp2)\n",
    "X_test_df_exp2 = pd.DataFrame(X_test_imputed_exp2)\n",
    "# Aggiungi le etichette per il target\n",
    "X_train_df_exp2['Class'] = y_train_resampled_exp2\n",
    "X_val_df_exp2['Class'] = y_val_encoded_exp2\n",
    "X_test_df_exp2['Class'] = y_test_encoded_exp2"
   ],
   "metadata": {
    "collapsed": false
   },
   "id": "5c6a0031adbd0415",
   "execution_count": null,
   "outputs": []
  },
  {
   "cell_type": "code",
   "source": [
    "y_train_resampled_df_exp2 = pd.DataFrame(y_train_resampled_exp2, columns=['Class'])\n",
    "print(\"Distribuzione delle classi nel set di training dopo SMOTE:\")\n",
    "display(y_train_resampled_df_exp2['Class'].value_counts())"
   ],
   "metadata": {
    "collapsed": false
   },
   "id": "f92b8a94599f9577",
   "execution_count": null,
   "outputs": []
  },
  {
   "cell_type": "code",
   "source": [
    "#TRAIN\n",
    "random_forest_model_exp2 = oversampling_binary.train_random_forest(X_train_resampled_exp2, y_train_resampled_exp2,\n",
    "                                                                 X_val_imputed_exp2, y_val_encoded_exp2, X_val_imputed_exp2, y_test_encoded_exp2)"
   ],
   "metadata": {
    "collapsed": false
   },
   "id": "6cc1211a04def868",
   "execution_count": null,
   "outputs": []
  },
  {
   "cell_type": "code",
   "source": [
    "# 1. Effettua le predizioni sul set di convalida\n",
    "y_pred_exp2 = random_forest_model_exp2.predict(X_val_imputed_exp2)\n",
    "\n",
    "# 2. Calcola la matrice di confusione\n",
    "cm_exp2 = confusion_matrix(y_val_encoded_exp2, y_pred_exp2)\n",
    "\n",
    "# 3. Visualizza la matrice di confusione\n",
    "plt.figure(figsize=(8, 6))\n",
    "sns.heatmap(cm_exp2, annot=True, fmt='d', cmap='Blues', xticklabels=['Classe 0', 'Classe 1'], yticklabels=['Classe 0', 'Classe 1'])\n",
    "plt.xlabel('Predizioni')\n",
    "plt.ylabel('Label')\n",
    "plt.title('Matrice di Confusione - Modello Random Forest Esperimento 2')\n",
    "plt.show()"
   ],
   "metadata": {
    "collapsed": false
   },
   "id": "794a01d13adf28a2",
   "execution_count": null,
   "outputs": []
  },
  {
   "cell_type": "code",
   "source": [
    "svm_model_exp2 = oversampling_binary.train_svm(X_train_resampled_exp2, y_train_resampled_exp2, X_val_imputed_exp2, y_val_encoded_exp2, X_test_imputed_exp2, y_test_encoded_exp2)"
   ],
   "metadata": {
    "collapsed": false
   },
   "id": "7db6d69c1c33b629",
   "execution_count": null,
   "outputs": []
  },
  {
   "cell_type": "code",
   "source": [
    "# 1. Effettua le predizioni sul set di convalida\n",
    "y_pred_exp2_svm = svm_model_exp2.predict(X_val_imputed_exp2)\n",
    "\n",
    "# 2. Calcola la matrice di confusione\n",
    "cm_exp2_svm = confusion_matrix(y_val_encoded_exp2, y_pred_exp2_svm)\n",
    "\n",
    "# 3. Visualizza la matrice di confusione\n",
    "plt.figure(figsize=(8, 6))\n",
    "sns.heatmap(cm_exp2_svm, annot=True, fmt='d', cmap='Blues', xticklabels=['Classe 0', 'Classe 1'], yticklabels=['Classe 0', 'Classe 1'])\n",
    "plt.xlabel('Predizioni')\n",
    "plt.ylabel('Label')\n",
    "plt.title('Matrice di Confusione - Modello SVM Esperimento 2')\n",
    "plt.show()"
   ],
   "metadata": {
    "collapsed": false
   },
   "id": "113c59f8d5f87a9b",
   "execution_count": null,
   "outputs": []
  },
  {
   "cell_type": "code",
   "source": [
    "lightgbm_model_exp2 = oversampling_binary.train_lightgbm(X_train_resampled_exp2, y_train_resampled_exp2, X_val_imputed_exp2, y_val_encoded_exp2, X_val_imputed_exp2, y_val_encoded_exp2)"
   ],
   "metadata": {
    "collapsed": false
   },
   "id": "25b3d34187b3807b",
   "execution_count": null,
   "outputs": []
  },
  {
   "cell_type": "code",
   "source": [
    "# 1. Effettua le predizioni sul set di convalida\n",
    "y_pred_exp2_lightgbm = lightgbm_model_exp2.predict(X_val_imputed_exp2)\n",
    "\n",
    "# Se il modello restituisce probabilità, ottieni le etichette predette\n",
    "y_pred_exp2_lightgbm = (y_pred_exp2_lightgbm > 0.5).astype(int)  # Usa la soglia di 0.5 per la classificazione binaria\n",
    "\n",
    "# 2. Calcola la matrice di confusione\n",
    "cm_exp2_lightgbm = confusion_matrix(y_val_encoded_exp2, y_pred_exp2_lightgbm)\n",
    "\n",
    "# 3. Visualizza la matrice di confusione\n",
    "plt.figure(figsize=(8, 6))\n",
    "sns.heatmap(cm_exp2_lightgbm, annot=True, fmt='d', cmap='Blues', xticklabels=['Classe 0', 'Classe 1'], yticklabels=['Classe 0', 'Classe 1'])\n",
    "plt.xlabel('Predizioni')\n",
    "plt.ylabel('Label')\n",
    "plt.title('Matrice di Confusione - Modello LightGBM Esperimento 2')\n",
    "plt.show()"
   ],
   "metadata": {
    "collapsed": false
   },
   "id": "91bba401208a9a0e",
   "execution_count": null,
   "outputs": []
  }
 ],
 "metadata": {
  "kernelspec": {
   "display_name": "Python 3",
   "language": "python",
   "name": "python3"
  },
  "language_info": {
   "codemirror_mode": {
    "name": "ipython",
    "version": 2
   },
   "file_extension": ".py",
   "mimetype": "text/x-python",
   "name": "python",
   "nbconvert_exporter": "python",
   "pygments_lexer": "ipython2",
   "version": "2.7.6"
  }
 },
 "nbformat": 4,
 "nbformat_minor": 5
}
