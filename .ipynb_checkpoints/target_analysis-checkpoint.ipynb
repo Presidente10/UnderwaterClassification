{
 "cells": [
  {
   "cell_type": "code",
   "execution_count": 1,
   "id": "ad30963e-dd61-4790-b533-a4ec68b645a7",
   "metadata": {},
   "source": [
    "import os\n",
    "import librosa\n",
    "import pandas as pd\n",
    "import matplotlib.pyplot as plt"
   ],
   "outputs": []
  },
  {
   "cell_type": "markdown",
   "id": "2f4d6e95-1a87-408e-92c7-c4f5377d3e30",
   "metadata": {},
   "source": [
    "Percorso dataset"
   ]
  },
  {
   "cell_type": "code",
   "execution_count": 2,
   "id": "6b71c499-5c16-45ef-af7c-daea08c7af62",
   "metadata": {},
   "source": [
    "dataset_root = 'C://underwater-classification//dataset'"
   ],
   "outputs": []
  },
  {
   "cell_type": "markdown",
   "id": "7aba3a06-3d84-4802-a491-135748eb92ed",
   "metadata": {},
   "source": [
    "Carica il file audio utilizzando librosa\n",
    "Estrarre le informazioni richieste: \n",
    "1. Ampiezza massima assoluta del segnale\n",
    "2. Durata del segnale in secondi\n",
    "3. Numero di canali (mono o stereo)\n",
    "4. Frequenza di campionamento\n",
    "5. Fase del segnale (primo campione)\n"
   ]
  },
  {
   "cell_type": "code",
   "execution_count": 3,
   "id": "c8f12734-a19c-42cc-bb0a-933f0b8b233e",
   "metadata": {},
   "source": [
    "def extract_audio_features(dataset_root):\n",
    "    audio_features = []\n",
    "\n",
    "    durations = []\n",
    "    frequencies = []\n",
    "    amplitudes = []\n",
    "    num_channels_list = []\n",
    "    phases = []\n",
    "\n",
    "    for root, dirs, files in os.walk(dataset_root):\n",
    "        for filename in files:\n",
    "            if filename.endswith(('.wav', '.mp3')):  \n",
    "                file_path = os.path.join(root, filename)\n",
    "\n",
    "                try:\n",
    "                    y, sr = librosa.load(file_path, sr=None)\n",
    "\n",
    "                    amplitude = max(abs(y))\n",
    "                    duration = librosa.get_duration(y=y, sr=sr)  \n",
    "                    num_channels = 1 if y.ndim == 1 else y.shape[1] \n",
    "                    frequency = sr\n",
    "                    phase = y[0]\n",
    "\n",
    "                    amplitudes.append(amplitude)\n",
    "                    durations.append(duration)\n",
    "                    frequencies.append(frequency)\n",
    "                    num_channels_list.append(num_channels)\n",
    "                    phases.append(phase)\n",
    "\n",
    "                    file_name = os.path.splitext(filename)[0]\n",
    "\n",
    "                    audio_features.append({\n",
    "                        'Nome file': file_name,\n",
    "                        'Path del file': file_path,\n",
    "                        'Ampiezza del segnale': amplitude,\n",
    "                        'Durata': duration,\n",
    "                        'Frequenza': frequency,\n",
    "                        'Numero di canali': num_channels,\n",
    "                        'Fase': phase,\n",
    "                        'Forma d\\'onda': y.shape\n",
    "                    })\n",
    "\n",
    "                except Exception as e:\n",
    "                    print(f\"Errore durante l'elaborazione del file '{filename}': {e}\")\n",
    "\n",
    "    return audio_features, amplitudes, durations, frequencies, num_channels_list, phases\n"
   ],
   "outputs": []
  },
  {
   "cell_type": "markdown",
   "id": "459ab55a-f81c-4234-8d0d-1217c3b152db",
   "metadata": {},
   "source": [
    "Funzione per salvare i dati in un file CSV"
   ]
  },
  {
   "cell_type": "code",
   "execution_count": 4,
   "id": "2c43a376-0632-4884-9ee1-ebda4bd7a125",
   "metadata": {},
   "source": [
    "def save_to_csv(data, output_file):\n",
    "    df = pd.DataFrame(data)\n",
    "    df.to_csv(output_file, index=False)"
   ],
   "outputs": []
  },
  {
   "cell_type": "markdown",
   "id": "f47c9cb1-d777-4312-8c1a-bcffa41ae96f",
   "metadata": {},
   "source": [
    "Funzione per creare grafici di distribuzione utilizzando matplotlib"
   ]
  },
  {
   "cell_type": "code",
   "execution_count": 5,
   "id": "6622ac29-00ad-41e0-80bc-d5711397a754",
   "metadata": {},
   "source": [
    "def plot_distribution(values, title):\n",
    "    plt.figure(figsize=(8, 6))\n",
    "    plt.hist(values, bins=20, color='skyblue', edgecolor='black')\n",
    "    plt.title(title)\n",
    "    plt.xlabel('Valore')\n",
    "    plt.ylabel('Frequenza')\n",
    "    plt.grid(True)\n",
    "    plt.show()"
   ],
   "outputs": []
  },
  {
   "cell_type": "markdown",
   "id": "6ce11b41-c1f4-4251-ba49-e2d9dd62a7c9",
   "metadata": {},
   "source": [
    "MAIN"
   ]
  },
  {
   "cell_type": "code",
   "execution_count": 6,
   "id": "7f78a2ac-f0a5-4f47-a20e-14bf94c30e25",
   "metadata": {},
   "source": [
    "if __name__ == \"__main__\":\n",
    "    dataset_root = 'C://underwater-classification//dataset'"
   ],
   "outputs": []
  },
  {
   "cell_type": "markdown",
   "id": "eb0a5610-2909-4c65-9e0b-23cf39ae3790",
   "metadata": {},
   "source": [
    "Estarre le informazioni audio dal dataset"
   ]
  },
  {
   "cell_type": "code",
   "execution_count": 7,
   "id": "ef6c3f89-d7fc-4aae-b7b6-363bb1231046",
   "metadata": {},
   "source": [
    "    extracted_features, amplitudes, durations, frequencies, num_channels_list, phases = extract_audio_features(dataset_root)"
   ],
   "outputs": []
  },
  {
   "cell_type": "markdown",
   "id": "2699a23e-2298-42ab-9a9a-3d9973814254",
   "metadata": {},
   "source": [
    "Specificare il percorso per salvare il file CSV di output"
   ]
  },
  {
   "cell_type": "code",
   "execution_count": 8,
   "id": "dbd4d7d0-4ce4-4b10-8e80-4864f32ea434",
   "metadata": {},
   "source": [
    "    output_csv_file = 'audio_features_dataset.csv'"
   ],
   "outputs": []
  },
  {
   "cell_type": "markdown",
   "id": "01bbc2d8-058e-4f99-ac38-583a00c9bde5",
   "metadata": {},
   "source": [
    "Salvare le informazioni estratte in un file CSV"
   ]
  },
  {
   "cell_type": "code",
   "execution_count": 9,
   "id": "27fe28c6-8ac3-4916-b9f1-c81324ec79af",
   "metadata": {},
   "source": [
    "    save_to_csv(extracted_features, output_csv_file)"
   ],
   "outputs": []
  },
  {
   "cell_type": "markdown",
   "id": "07c32417-2afc-41ce-9669-526a8e8729d6",
   "metadata": {},
   "source": [
    "Generare i grafici di distribuzione per ciascuna caratteristica"
   ]
  },
  {
   "cell_type": "code",
   "execution_count": 10,
   "id": "a13edc67-a591-4353-834b-f3676b276e40",
   "metadata": {},
   "source": [
    "    plot_distribution(amplitudes, 'Distribuzione dei Valori di Ampiezza del Segnale')\n",
    "    plot_distribution(durations, 'Distribuzione dei Valori di Durata')\n",
    "    plot_distribution(frequencies, 'Distribuzione dei Valori di Frequenza')\n",
    "    plot_distribution(num_channels_list, 'Distribuzione dei Valori di Numero di Canali')\n",
    "    plot_distribution(phases, 'Distribuzione dei Valori di Fase')\n",
    "\n",
    "    print(f\"Il file CSV '{output_csv_file}' e' stato creato con successo.\")"
   ],
   "outputs": []
  }
 ],
 "metadata": {
  "kernelspec": {
   "display_name": "Python 3 (ipykernel)",
   "language": "python",
   "name": "python3"
  },
  "language_info": {
   "codemirror_mode": {
    "name": "ipython",
    "version": 3
   },
   "file_extension": ".py",
   "mimetype": "text/x-python",
   "name": "python",
   "nbconvert_exporter": "python",
   "pygments_lexer": "ipython3",
   "version": "3.10.0"
  }
 },
 "nbformat": 4,
 "nbformat_minor": 5
}
