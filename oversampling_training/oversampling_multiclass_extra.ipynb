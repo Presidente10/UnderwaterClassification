{
 "cells": [
  {
   "cell_type": "code",
   "id": "initial_id",
   "metadata": {
    "collapsed": true,
    "ExecuteTime": {
     "end_time": "2025-01-17T19:21:46.913808Z",
     "start_time": "2025-01-17T19:21:46.900806Z"
    }
   },
   "source": [
    "import pandas as pd\n",
    "from oversampling_multiclass_extra import (\n",
    "    split_dataset,\n",
    "    apply_smote_multiclass,\n",
    "    lightgbm_plot_confusion_matrices,\n",
    "    train_lightgbm_multiclass_extra\n",
    ")\n"
   ],
   "outputs": [],
   "execution_count": 2
  },
  {
   "metadata": {},
   "cell_type": "markdown",
   "source": "Esperimento con modello LightGBM e secondo set di Features",
   "id": "9048f6138f77613b"
  },
  {
   "metadata": {
    "ExecuteTime": {
     "end_time": "2025-01-17T19:21:48.752106Z",
     "start_time": "2025-01-17T19:21:48.584016Z"
    }
   },
   "cell_type": "code",
   "source": [
    "csv_file_path_exp1 = 'C:/Users/frees/Documents/GitHub/UnderwaterClassification/features_extraction/exp1_audio_features.csv'\n",
    "df_exp1 = pd.read_csv(csv_file_path_exp1)"
   ],
   "id": "6ff28de1da18ca4e",
   "outputs": [],
   "execution_count": 3
  },
  {
   "metadata": {
    "ExecuteTime": {
     "end_time": "2025-01-17T19:21:49.837906Z",
     "start_time": "2025-01-17T19:21:49.673443Z"
    }
   },
   "cell_type": "code",
   "source": [
    "df_exp1['File Name'] = df_exp1['File Name'].str[:-4]\n",
    "df_exp1 = df_exp1[df_exp1['Class'] == 'Target'].copy()\n",
    "# Aggiungi una colonna \"Parent\" che contiene il prefisso dei file per garantire la coesione dei segmenti\n",
    "df_exp1['Parent'] = df_exp1['File Name'].str.extract(r'^(.*?)(?=_seg)')\n",
    "\n",
    "# Filtra le subclass con almeno 10 parent distinti\n",
    "parent_counts = df_exp1.groupby('Subclass')['Parent'].nunique()\n",
    "subclasses_to_keep = parent_counts[parent_counts >= 10].index\n",
    "df_exp1 = df_exp1[df_exp1['Subclass'].isin(subclasses_to_keep)].copy()\n",
    "\n",
    "print(f\"Dimensione totale dopo il filtraggio: {df_exp1.shape[0]} campioni\")"
   ],
   "id": "ff09a6653ebe71a5",
   "outputs": [
    {
     "name": "stdout",
     "output_type": "stream",
     "text": [
      "Dimensione totale dopo il filtraggio: 43089 campioni\n"
     ]
    }
   ],
   "execution_count": 4
  },
  {
   "metadata": {
    "ExecuteTime": {
     "end_time": "2025-01-17T19:21:51.501740Z",
     "start_time": "2025-01-17T19:21:51.272499Z"
    }
   },
   "cell_type": "code",
   "source": [
    "X_train_imputed_exp1, X_val_imputed_exp1, X_test_imputed_exp1, y_train_encoded_exp1, y_val_encoded_exp1, y_test_encoded_exp1, subclass_encoder_exp1 = split_dataset(\n",
    "    df_exp1)"
   ],
   "id": "937344e44347075c",
   "outputs": [
    {
     "name": "stdout",
     "output_type": "stream",
     "text": [
      "\n",
      "Train size: 33872 (78.61%)\n",
      "Val size:   4403 (10.22%)\n",
      "Test size:  4814 (11.17%)\n",
      "\n",
      "Distribuzione di 'Subclass' nel train:\n",
      "Subclass\n",
      "Passengership    8830\n",
      "Tanker           8744\n",
      "Tug              8213\n",
      "Cargo            7802\n",
      "Vessel            283\n",
      "Name: count, dtype: int64\n",
      "\n",
      "Distribuzione di 'Subclass' nel val:\n",
      "Subclass\n",
      "Passengership    1291\n",
      "Tanker           1276\n",
      "Tug               956\n",
      "Cargo             862\n",
      "Vessel             18\n",
      "Name: count, dtype: int64\n",
      "\n",
      "Distribuzione di 'Subclass' nel test:\n",
      "Subclass\n",
      "Passengership    1607\n",
      "Tanker           1201\n",
      "Cargo            1007\n",
      "Tug               993\n",
      "Vessel              6\n",
      "Name: count, dtype: int64\n"
     ]
    }
   ],
   "execution_count": 5
  },
  {
   "metadata": {
    "ExecuteTime": {
     "end_time": "2025-01-17T19:21:53.152994Z",
     "start_time": "2025-01-17T19:21:52.784740Z"
    }
   },
   "cell_type": "code",
   "source": [
    "# Applica SMOTE\n",
    "X_train_resampled_exp1, y_train_resampled_exp1 = apply_smote_multiclass(X_train_imputed_exp1, y_train_encoded_exp1, 1)"
   ],
   "id": "474680e7789576f3",
   "outputs": [
    {
     "name": "stdout",
     "output_type": "stream",
     "text": [
      "\n",
      "Class distribution after SMOTE:\n",
      "1    8830\n",
      "2    8830\n",
      "0    8830\n",
      "3    8830\n",
      "4    8830\n",
      "Name: count, dtype: int64\n"
     ]
    }
   ],
   "execution_count": 6
  },
  {
   "metadata": {
    "ExecuteTime": {
     "end_time": "2025-01-17T19:21:54.259605Z",
     "start_time": "2025-01-17T19:21:54.246606Z"
    }
   },
   "cell_type": "code",
   "source": [
    "# Rimuovi le colonne non necessarie per evitare errori nei nomi delle feature\n",
    "X_val_imputed_exp1 = X_val_imputed_exp1.drop(columns=[\"Class\",\"File Name\",\"Parent\",\"Subclass\"], errors='ignore')\n",
    "X_test_imputed_exp1= X_test_imputed_exp1.drop(columns=[\"Class\",\"File Name\",\"Parent\",\"Subclass\"], errors='ignore')\n"
   ],
   "id": "3507b8bef308c061",
   "outputs": [],
   "execution_count": 7
  },
  {
   "metadata": {
    "ExecuteTime": {
     "end_time": "2025-01-17T19:24:42.879504Z",
     "start_time": "2025-01-17T19:21:56.017895Z"
    }
   },
   "cell_type": "code",
   "source": [
    "lightgbm_model_exp1 = train_lightgbm_multiclass_extra(\n",
    "    X_train_resampled_exp1, y_train_resampled_exp1,\n",
    "    X_val_imputed_exp1, y_val_encoded_exp1,\n",
    "    X_test_imputed_exp1, y_test_encoded_exp1\n",
    ")"
   ],
   "id": "edecc0eca684baa5",
   "outputs": [
    {
     "name": "stdout",
     "output_type": "stream",
     "text": [
      "Fitting 1 folds for each of 48 candidates, totalling 48 fits\n",
      "[LightGBM] [Warning] feature_fraction is set=1.0, colsample_bytree=1.0 will be ignored. Current value: feature_fraction=1.0\n",
      "[LightGBM] [Warning] bagging_fraction is set=0.8, subsample=1.0 will be ignored. Current value: bagging_fraction=0.8\n",
      "[LightGBM] [Warning] Found whitespace in feature_names, replace with underlines\n",
      "[LightGBM] [Warning] feature_fraction is set=1.0, colsample_bytree=1.0 will be ignored. Current value: feature_fraction=1.0\n",
      "[LightGBM] [Warning] bagging_fraction is set=0.8, subsample=1.0 will be ignored. Current value: bagging_fraction=0.8\n",
      "[LightGBM] [Info] Auto-choosing col-wise multi-threading, the overhead of testing was 0.002325 seconds.\n",
      "You can set `force_col_wise=true` to remove the overhead.\n",
      "[LightGBM] [Info] Total Bins 7140\n",
      "[LightGBM] [Info] Number of data points in the train set: 48553, number of used features: 28\n",
      "[LightGBM] [Info] Start training from score -1.611355\n",
      "[LightGBM] [Info] Start training from score -1.568044\n",
      "[LightGBM] [Info] Start training from score -1.569527\n",
      "[LightGBM] [Info] Start training from score -1.601703\n",
      "[LightGBM] [Info] Start training from score -1.702465\n",
      "[LightGBM] [Warning] feature_fraction is set=1.0, colsample_bytree=1.0 will be ignored. Current value: feature_fraction=1.0\n",
      "[LightGBM] [Warning] bagging_fraction is set=0.8, subsample=1.0 will be ignored. Current value: bagging_fraction=0.8\n",
      "\n",
      "Accuratezza (Val) = 0.8478\n",
      "\n",
      "=== Report - Validation ===\n",
      "              precision    recall  f1-score   support\n",
      "\n",
      "           0     0.7767    0.7343    0.7549       862\n",
      "           1     0.9113    0.8358    0.8719      1291\n",
      "           2     0.8304    0.8636    0.8467      1276\n",
      "           3     0.8508    0.9425    0.8943       956\n",
      "           4     1.0000    1.0000    1.0000        18\n",
      "\n",
      "    accuracy                         0.8478      4403\n",
      "   macro avg     0.8739    0.8752    0.8736      4403\n",
      "weighted avg     0.8487    0.8478    0.8471      4403\n",
      "\n",
      "[LightGBM] [Warning] feature_fraction is set=1.0, colsample_bytree=1.0 will be ignored. Current value: feature_fraction=1.0\n",
      "[LightGBM] [Warning] bagging_fraction is set=0.8, subsample=1.0 will be ignored. Current value: bagging_fraction=0.8\n",
      "\n",
      "Accuratezza (Test) = 0.5216\n",
      "\n",
      "=== Report - Test ===\n",
      "              precision    recall  f1-score   support\n",
      "\n",
      "           0     0.5558    0.4449    0.4942      1007\n",
      "           1     0.5237    0.4736    0.4974      1607\n",
      "           2     0.5297    0.5204    0.5250      1201\n",
      "           3     0.4967    0.6757    0.5725       993\n",
      "           4     0.2500    1.0000    0.4000         6\n",
      "\n",
      "    accuracy                         0.5216      4814\n",
      "   macro avg     0.4712    0.6229    0.4978      4814\n",
      "weighted avg     0.5260    0.5216    0.5190      4814\n",
      "\n"
     ]
    }
   ],
   "execution_count": 8
  },
  {
   "metadata": {},
   "cell_type": "code",
   "source": [
    "lightgbm_plot_confusion_matrices(\n",
    "    model=lightgbm_model_exp1,\n",
    "    X_val=X_val_imputed_exp1,\n",
    "    y_val_encoded=y_val_encoded_exp1,\n",
    "    X_test=X_test_imputed_exp1,\n",
    "    y_test_encoded=y_test_encoded_exp1,\n",
    "    subclass_encoder=subclass_encoder)"
   ],
   "id": "3205e0a8b0a1cc9c",
   "outputs": [],
   "execution_count": null
  },
  {
   "metadata": {},
   "cell_type": "code",
   "outputs": [],
   "execution_count": null,
   "source": "",
   "id": "b09fc8fa0344e937"
  }
 ],
 "metadata": {
  "kernelspec": {
   "display_name": "Python 3",
   "language": "python",
   "name": "python3"
  },
  "language_info": {
   "codemirror_mode": {
    "name": "ipython",
    "version": 2
   },
   "file_extension": ".py",
   "mimetype": "text/x-python",
   "name": "python",
   "nbconvert_exporter": "python",
   "pygments_lexer": "ipython2",
   "version": "2.7.6"
  }
 },
 "nbformat": 4,
 "nbformat_minor": 5
}
